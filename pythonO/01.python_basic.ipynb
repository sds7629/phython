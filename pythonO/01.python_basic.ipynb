{
 "cells": [
  {
   "attachments": {},
   "cell_type": "markdown",
   "metadata": {},
   "source": [
    "## 파이썬 자료형\n",
    "\n",
    "- 숫자형 (Number)\n",
    "- 문자형 (String)\n",
    "- 리스트형 (List)\n",
    "- 튜플 (Tuple), 딕셔너리형(Dict), 집합형(Set)\n",
    "- 불형 (Boolean)\n",
    "\n",
    "* 자료를 담는 그릇"
   ]
  },
  {
   "attachments": {},
   "cell_type": "markdown",
   "metadata": {},
   "source": [
    "### 숫자형 (Number)"
   ]
  },
  {
   "cell_type": "code",
   "execution_count": 10,
   "metadata": {},
   "outputs": [
    {
     "data": {
      "text/plain": [
       "int"
      ]
     },
     "execution_count": 10,
     "metadata": {},
     "output_type": "execute_result"
    }
   ],
   "source": [
    "# a = 1.0\n",
    "a = 1\n",
    "type(a)"
   ]
  },
  {
   "cell_type": "code",
   "execution_count": 11,
   "metadata": {},
   "outputs": [
    {
     "name": "stdout",
     "output_type": "stream",
     "text": [
      "11\n",
      "-9\n",
      "0.1\n",
      "10\n"
     ]
    }
   ],
   "source": [
    "a = 1\n",
    "b = 10\n",
    "\n",
    "print(a+b)\n",
    "print(a-b)\n",
    "print(a/b)\n",
    "print(a*b)"
   ]
  },
  {
   "attachments": {},
   "cell_type": "markdown",
   "metadata": {},
   "source": [
    "### 문자형 (String)\n",
    "\n",
    "- 쌍 따옴표(\"\") 또는 작은 따옴표('')로 감싸져 있는 형태이다."
   ]
  },
  {
   "attachments": {},
   "cell_type": "markdown",
   "metadata": {},
   "source": []
  },
  {
   "cell_type": "code",
   "execution_count": 12,
   "metadata": {},
   "outputs": [
    {
     "data": {
      "text/plain": [
       "str"
      ]
     },
     "execution_count": 12,
     "metadata": {},
     "output_type": "execute_result"
    }
   ],
   "source": [
    "a = 'python'\n",
    "type(a) # type() : 변수의 타입을 return"
   ]
  },
  {
   "cell_type": "code",
   "execution_count": 17,
   "metadata": {},
   "outputs": [
    {
     "name": "stdout",
     "output_type": "stream",
     "text": [
      "Act is though\n",
      "it is impossible to fail\n",
      "Act is though\n",
      "it is impossible to fail\n"
     ]
    }
   ],
   "source": [
    "word  = \"Act is though\\nit is impossible to fail\"\n",
    "\n",
    "word2 = \"\"\"Act is though\n",
    "it is impossible to fail\"\"\"\n",
    "\n",
    "print(word)\n",
    "print(word2)"
   ]
  },
  {
   "cell_type": "code",
   "execution_count": 19,
   "metadata": {},
   "outputs": [
    {
     "name": "stdout",
     "output_type": "stream",
     "text": [
      "It's kind of fun to do the impossible\n"
     ]
    }
   ],
   "source": [
    "word = 'It\\'s kind of fun to do the impossible'\n",
    "\n",
    "print(word)"
   ]
  },
  {
   "cell_type": "code",
   "execution_count": 24,
   "metadata": {},
   "outputs": [
    {
     "name": "stdout",
     "output_type": "stream",
     "text": [
      "\"Failure is simply the opportunity to begin again.\" he says.\"\n",
      "\"Failure is simply the opportunity to begin again.\" he says.\"\n",
      "\"Failure is simply the opportunity to begin again.\" he says.\" \n"
     ]
    }
   ],
   "source": [
    "word1 = '\"Failure is simply the opportunity to begin again.\" he says.\"'\n",
    "word2 = \"\\\"Failure is simply the opportunity to begin again.\\\" he says.\\\"\"\n",
    "word3 = \"\"\"\"Failure is simply the opportunity to begin again.\" he says.\" \"\"\"\n",
    "\n",
    "\n",
    "print(word1)\n",
    "print(word2)\n",
    "print(word3)\n"
   ]
  },
  {
   "cell_type": "code",
   "execution_count": 29,
   "metadata": {},
   "outputs": [
    {
     "name": "stdout",
     "output_type": "stream",
     "text": [
      "LifeLifeLifeLifeLifeLifeLifeLifeLifeLife\n"
     ]
    }
   ],
   "source": [
    "a = \"L\"\n",
    "b = \"i\"\n",
    "c = \"f\"\n",
    "d = \"e\"\n",
    "print((a+b+c+d)*10)"
   ]
  },
  {
   "cell_type": "code",
   "execution_count": 30,
   "metadata": {},
   "outputs": [
    {
     "data": {
      "text/plain": [
       "6"
      ]
     },
     "execution_count": 30,
     "metadata": {},
     "output_type": "execute_result"
    }
   ],
   "source": [
    "len('Python') #문자열의 길이 값을 리턴한다."
   ]
  },
  {
   "cell_type": "code",
   "execution_count": 43,
   "metadata": {},
   "outputs": [
    {
     "data": {
      "text/plain": [
       "'!nohtyP ,olleH'"
      ]
     },
     "execution_count": 43,
     "metadata": {},
     "output_type": "execute_result"
    }
   ],
   "source": [
    "#문자열 indexing and slicing\n",
    "\n",
    "a = \"Hello, Python!\"\n",
    "a[::-1]"
   ]
  },
  {
   "cell_type": "code",
   "execution_count": 53,
   "metadata": {},
   "outputs": [
    {
     "name": "stdout",
     "output_type": "stream",
     "text": [
      "semaJcinatiT\n"
     ]
    }
   ],
   "source": [
    "a = \"TitanicJames\"\n",
    "[a[0:7],a[7:]]\n",
    "print(a[::-1])"
   ]
  },
  {
   "attachments": {},
   "cell_type": "markdown",
   "metadata": {},
   "source": [
    "###  리스트형(List)"
   ]
  },
  {
   "attachments": {},
   "cell_type": "markdown",
   "metadata": {},
   "source": [
    "- 여러 개의 변수를 한번에 담아 두기 위해서"
   ]
  },
  {
   "cell_type": "code",
   "execution_count": 5,
   "metadata": {},
   "outputs": [
    {
     "data": {
      "text/plain": [
       "[1, 2, 3, 4, 5]"
      ]
     },
     "execution_count": 5,
     "metadata": {},
     "output_type": "execute_result"
    }
   ],
   "source": [
    "x = [1,2,3,4,5]\n",
    "type(x)\n",
    "\n",
    "#indexing, slicing\n",
    "\n",
    "x[0:3] # 1, 2, 3\n",
    "x[:]"
   ]
  },
  {
   "cell_type": "code",
   "execution_count": 7,
   "metadata": {},
   "outputs": [
    {
     "data": {
      "text/plain": [
       "'e'"
      ]
     },
     "execution_count": 7,
     "metadata": {},
     "output_type": "execute_result"
    }
   ],
   "source": [
    "x = ['a','b','c',['d','e']]\n",
    "\n",
    "x[3][1]"
   ]
  },
  {
   "attachments": {},
   "cell_type": "markdown",
   "metadata": {},
   "source": [
    "### 튜플(tuple)"
   ]
  },
  {
   "cell_type": "code",
   "execution_count": 8,
   "metadata": {},
   "outputs": [
    {
     "data": {
      "text/plain": [
       "tuple"
      ]
     },
     "execution_count": 8,
     "metadata": {},
     "output_type": "execute_result"
    }
   ],
   "source": [
    "\n",
    "t = (1,2,3,(4,5))\n",
    "\n",
    "type(t)\n"
   ]
  },
  {
   "attachments": {},
   "cell_type": "markdown",
   "metadata": {},
   "source": [
    "### 딕셔너리형(dict)\n",
    "- {} 중괄호로 감싸져 있고, 키와 밸류로 구성되어 있다."
   ]
  },
  {
   "cell_type": "code",
   "execution_count": 14,
   "metadata": {},
   "outputs": [
    {
     "data": {
      "text/plain": [
       "'yangpyung'"
      ]
     },
     "execution_count": 14,
     "metadata": {},
     "output_type": "execute_result"
    }
   ],
   "source": [
    "x = {'key': 'value', 'name': 'jins', 'age': 27, 'city':['seoul','yangpyung']} #json이라고도 부른다.\n",
    "type(x)\n",
    "\n",
    "x['city'][1]"
   ]
  },
  {
   "attachments": {},
   "cell_type": "markdown",
   "metadata": {},
   "source": [
    "### 집합형 (Set)\n",
    "- 순서가 없다\n",
    "- 중복을 허용하지 않는다."
   ]
  },
  {
   "cell_type": "code",
   "execution_count": 18,
   "metadata": {},
   "outputs": [
    {
     "name": "stdout",
     "output_type": "stream",
     "text": [
      "{'a', 'b', 'c'}\n"
     ]
    }
   ],
   "source": [
    "x = set([5,2,1,1,1])\n",
    "type(x)\n",
    "\n",
    "x = set(['a','a','b','b','c'])\n",
    "print(x)"
   ]
  },
  {
   "attachments": {},
   "cell_type": "markdown",
   "metadata": {},
   "source": [
    "### 불형(Boolean)"
   ]
  },
  {
   "cell_type": "code",
   "execution_count": 21,
   "metadata": {},
   "outputs": [
    {
     "data": {
      "text/plain": [
       "bool"
      ]
     },
     "execution_count": 21,
     "metadata": {},
     "output_type": "execute_result"
    }
   ],
   "source": [
    "type(True)\n",
    "#False"
   ]
  },
  {
   "attachments": {},
   "cell_type": "markdown",
   "metadata": {},
   "source": [
    "## 제어문\n",
    "- if 조건문\n",
    "- for 반복문\n",
    "- while 반복문"
   ]
  },
  {
   "attachments": {},
   "cell_type": "markdown",
   "metadata": {},
   "source": [
    "### if 조건문"
   ]
  },
  {
   "cell_type": "code",
   "execution_count": 26,
   "metadata": {},
   "outputs": [
    {
     "name": "stdout",
     "output_type": "stream",
     "text": [
      "5보다 크다\n"
     ]
    }
   ],
   "source": [
    "number = int(input())\n",
    "\n",
    "if number < 2:\n",
    "    print('2보다 작다')\n",
    "elif number < 5:\n",
    "    print('5보다 작다')\n",
    "else:\n",
    "    print('5보다 크다')"
   ]
  },
  {
   "cell_type": "code",
   "execution_count": 31,
   "metadata": {},
   "outputs": [
    {
     "name": "stdout",
     "output_type": "stream",
     "text": [
      "비행기 타러 가자\n"
     ]
    }
   ],
   "source": [
    "money = int(input('내 수중의 돈'))\n",
    "card = True\n",
    "\n",
    "if money >= 70000:\n",
    "    print('비행기 타러 가자')\n",
    "elif money >= 50000:\n",
    "    print('기차 타러 가자')\n",
    "elif money >= 30000:\n",
    "    print('버스 타러 가자')\n",
    "else:\n",
    "    print('걸어가자')"
   ]
  },
  {
   "attachments": {},
   "cell_type": "markdown",
   "metadata": {},
   "source": [
    "## 반복문(for, while)"
   ]
  },
  {
   "cell_type": "code",
   "execution_count": 50,
   "metadata": {},
   "outputs": [
    {
     "name": "stdout",
     "output_type": "stream",
     "text": [
      "2\n",
      "세번째 반복문\n",
      "4\n",
      "5\n",
      "6\n",
      "7\n",
      "8\n",
      "9\n",
      "10\n",
      "11\n"
     ]
    }
   ],
   "source": [
    "num = 1\n",
    "for i in range(10):\n",
    "   num += 1\n",
    "\n",
    "   if num == 3:\n",
    "      print('세번째 반복문')\n",
    "      continue\n",
    "  \n",
    "   print(num)"
   ]
  },
  {
   "cell_type": "code",
   "execution_count": 54,
   "metadata": {},
   "outputs": [
    {
     "name": "stdout",
     "output_type": "stream",
     "text": [
      "seoul\n",
      "daejeon\n",
      "daegu\n"
     ]
    }
   ],
   "source": [
    "cities = ['seoul', 'daejeon', 'daegu', 'busan']\n",
    "\n",
    "for city in cities:\n",
    "    print(city)\n",
    "\n",
    "    if city == 'daegu':\n",
    "        break"
   ]
  },
  {
   "cell_type": "code",
   "execution_count": 57,
   "metadata": {},
   "outputs": [
    {
     "name": "stdout",
     "output_type": "stream",
     "text": [
      "p y t h o n 반복문 종료 후 실행\n"
     ]
    }
   ],
   "source": [
    "for i in 'python':\n",
    "    print(i, end=' ')\n",
    "else:\n",
    "    print('반복문 종료 후 실행')"
   ]
  },
  {
   "cell_type": "code",
   "execution_count": 60,
   "metadata": {},
   "outputs": [
    {
     "name": "stdout",
     "output_type": "stream",
     "text": [
      "0\n",
      "1\n",
      "2\n",
      "3\n",
      "4\n"
     ]
    }
   ],
   "source": [
    "#while\n",
    "\n",
    "num = 0\n",
    "while True:\n",
    "    print(num)\n",
    "    num += 1\n",
    "    if num == 5:\n",
    "        break"
   ]
  },
  {
   "cell_type": "code",
   "execution_count": 71,
   "metadata": {},
   "outputs": [
    {
     "name": "stdout",
     "output_type": "stream",
     "text": [
      "15\n"
     ]
    }
   ],
   "source": [
    "## 1부터 5까지 더하는 프로그램\n",
    "\n",
    "result = 0\n",
    "for i in range(1, 6):\n",
    "    result += i\n",
    "    \n",
    "print(result)"
   ]
  },
  {
   "cell_type": "code",
   "execution_count": 70,
   "metadata": {},
   "outputs": [
    {
     "name": "stdout",
     "output_type": "stream",
     "text": [
      "15\n"
     ]
    }
   ],
   "source": [
    "num = 0\n",
    "result = 0\n",
    "while num <= 5:\n",
    "    result += num\n",
    "    num += 1\n",
    "\n",
    "print(result)"
   ]
  },
  {
   "cell_type": "code",
   "execution_count": 86,
   "metadata": {},
   "outputs": [
    {
     "data": {
      "text/plain": [
       "[1, 3, 5, 7, 9]"
      ]
     },
     "execution_count": 86,
     "metadata": {},
     "output_type": "execute_result"
    }
   ],
   "source": [
    "#1부터 10까지의 정수 중에서 짝수만 출력하는 코드를 작성\n",
    "\n",
    "#for even in range(1, 11):\n",
    " #   if even % 2 == 0:\n",
    " #       print(even, end= ' ')\n",
    "\n",
    "[even for even in range(1, 11) if even % 2 == 0] #짝수\n",
    "\n",
    "[even for even in range(1, 11) if even % 2 == 1] #홀수\n"
   ]
  },
  {
   "cell_type": "code",
   "execution_count": 89,
   "metadata": {},
   "outputs": [
    {
     "name": "stdout",
     "output_type": "stream",
     "text": [
      "양수띠\n"
     ]
    }
   ],
   "source": [
    "# 사용자로부터 입력받은 숫자가 양수인지 음수인지 출력하는 코드를 작성\n",
    "num = int(input('값 입력'))\n",
    "\n",
    "if num > 0:\n",
    "    print('양수띠')\n",
    "elif num < 0:\n",
    "    print('음수띠')\n",
    "else:\n",
    "    print('0아님?')"
   ]
  },
  {
   "cell_type": "code",
   "execution_count": 90,
   "metadata": {},
   "outputs": [
    {
     "name": "stdout",
     "output_type": "stream",
     "text": [
      "9 * 1 = 9\n",
      "9 * 2 = 18\n",
      "9 * 3 = 27\n",
      "9 * 4 = 36\n",
      "9 * 5 = 45\n",
      "9 * 6 = 54\n",
      "9 * 7 = 63\n",
      "9 * 8 = 72\n",
      "9 * 9 = 81\n"
     ]
    }
   ],
   "source": [
    "#사용자로부터 입력받은 숫자의 구구단을 출력\n",
    "num = int(input('숫자 입력'))\n",
    "\n",
    "for i in range(1,10):\n",
    "    print(num,'*',i,'=',num*i)"
   ]
  },
  {
   "cell_type": "code",
   "execution_count": 85,
   "metadata": {},
   "outputs": [
    {
     "name": "stdout",
     "output_type": "stream",
     "text": [
      "315\n"
     ]
    }
   ],
   "source": [
    "# 1부터 100까지의 정수 중에서 3의 배수이면서 5의 배수인 정수의 합을 구하는 코드\n",
    "iSum = 0\n",
    "for i in range(1,101):\n",
    "    if i%15 == 0:\n",
    "        iSum += i\n",
    "print(iSum)"
   ]
  },
  {
   "attachments": {},
   "cell_type": "markdown",
   "metadata": {},
   "source": [
    "## 함수 (def)\n",
    "- def : define 정의하다\n",
    "- 반복되는 코드들을 함수로 묶어서 재활용할 때 사용\n",
    "\n",
    "- def 함수명(매개변수):\n",
    "    실행할 문장"
   ]
  },
  {
   "cell_type": "code",
   "execution_count": 91,
   "metadata": {},
   "outputs": [
    {
     "name": "stdout",
     "output_type": "stream",
     "text": [
      "이름\n"
     ]
    }
   ],
   "source": [
    "def name():\n",
    "    print('이름')\n",
    "name()"
   ]
  },
  {
   "cell_type": "code",
   "execution_count": 92,
   "metadata": {},
   "outputs": [
    {
     "name": "stdout",
     "output_type": "stream",
     "text": [
      "jinwoo\n"
     ]
    }
   ],
   "source": [
    "# 1. 매개변수가 있는 함수.\n",
    "def show_name(name):\n",
    "    print(name)\n",
    "\n",
    "show_name('jinwoo')"
   ]
  },
  {
   "cell_type": "code",
   "execution_count": 95,
   "metadata": {},
   "outputs": [
    {
     "name": "stdout",
     "output_type": "stream",
     "text": [
      "7\n",
      "11\n",
      "8\n"
     ]
    }
   ],
   "source": [
    "# return이 있는 함수\n",
    "def sum(a,b):\n",
    "    result = a + b\n",
    "    return result\n",
    "\n",
    "result = sum(3, 4)\n",
    "print(result)\n",
    "result = sum(3, 8)\n",
    "print(result)\n",
    "result = sum(3, 5)\n",
    "print(result)"
   ]
  },
  {
   "cell_type": "code",
   "execution_count": 102,
   "metadata": {},
   "outputs": [
    {
     "name": "stdout",
     "output_type": "stream",
     "text": [
      "이름: 진우 성적: D\n"
     ]
    }
   ],
   "source": [
    "#성적과 이름을 입력하고 성적에 따라서 이름과 등급을 알려주는 프로그램을 만드세용\n",
    "#성적에 따라 이름과 등급을 알려주는 프로그램\n",
    "#리턴을 할 떄는 이름과 등급을 리스트 형태로\n",
    "\n",
    "def prog(name, grade):\n",
    "    result = []\n",
    "    if grade >= 90:\n",
    "        return print('이름:',name + ' 성적: A')\n",
    "    elif grade >= 80:\n",
    "        return print('이름:',name + ' 성적: B')\n",
    "    elif grade >= 70:\n",
    "        return print('이름:',name + ' 성적: C')\n",
    "    elif grade >= 60:\n",
    "        return print('이름:',name + ' 성적: D')\n",
    "    else:\n",
    "        return print('이름:',name+ ' 성적: F')\n",
    "    \n",
    "a = input('이름')\n",
    "b = int(input('성적을 입력하세요'))\n",
    "prog(a, b)"
   ]
  },
  {
   "cell_type": "code",
   "execution_count": 108,
   "metadata": {},
   "outputs": [
    {
     "name": "stdout",
     "output_type": "stream",
     "text": [
      "['A', '진우']\n"
     ]
    }
   ],
   "source": [
    "def result_grade(score, name):\n",
    "    result = []\n",
    "    grade = \"\"\n",
    "    if score >= 90:\n",
    "        grade = \"A\"\n",
    "    elif score >= 80:\n",
    "        grade = \"B\"\n",
    "    elif score >= 70:\n",
    "        grade = \"C\"\n",
    "    elif score >= 60:\n",
    "        grade = \"D\"\n",
    "    else:\n",
    "        grade = \"F\"\n",
    "    result.append(grade)\n",
    "    result.append(name)\n",
    "    return result\n",
    "\n",
    "grade = result_grade(100, '진우')\n",
    "print(grade)"
   ]
  },
  {
   "attachments": {},
   "cell_type": "markdown",
   "metadata": {},
   "source": [
    "### 내장함수와 외장함수\n",
    "- 내장함수는 파이썬 언어 자체가 이미 품고 있는 함수 // Built-in Functions\n",
    "- 외장함수는 외부에서 불러와서 사용하는 함수 => import // External Functions"
   ]
  },
  {
   "cell_type": "code",
   "execution_count": 109,
   "metadata": {},
   "outputs": [
    {
     "data": {
      "text/plain": [
       "111"
      ]
     },
     "execution_count": 109,
     "metadata": {},
     "output_type": "execute_result"
    }
   ],
   "source": [
    "#내장함수\n",
    "# 1. abs 절댓값\n",
    "abs(-111)"
   ]
  },
  {
   "cell_type": "code",
   "execution_count": 111,
   "metadata": {},
   "outputs": [
    {
     "data": {
      "text/plain": [
       "'python'"
      ]
     },
     "execution_count": 111,
     "metadata": {},
     "output_type": "execute_result"
    }
   ],
   "source": [
    "# upper(), lower()\n",
    "a = 'Python'\n",
    "b = a.upper() # 소문자를 대문자로\n",
    "b.lower() # 대문자를 소문자로"
   ]
  },
  {
   "cell_type": "code",
   "execution_count": 115,
   "metadata": {},
   "outputs": [
    {
     "data": {
      "text/plain": [
       "str"
      ]
     },
     "execution_count": 115,
     "metadata": {},
     "output_type": "execute_result"
    }
   ],
   "source": [
    "# 형 변환 (str, int)\n",
    "a = int(\"10\")\n",
    "type(a)\n",
    "b = str(10)\n",
    "type(b)"
   ]
  },
  {
   "cell_type": "code",
   "execution_count": 119,
   "metadata": {},
   "outputs": [
    {
     "data": {
      "text/plain": [
       "['kor', 'us', 'china', 'japan']"
      ]
     },
     "execution_count": 119,
     "metadata": {},
     "output_type": "execute_result"
    }
   ],
   "source": [
    "# join() , spilt()\n",
    "\",\".join(\"Korea\")\n",
    "\n",
    "# 리스트 데이터를 join에 넣기\n",
    "countries = [\"kor\", \"us\", \"china\", \"japan\"]\n",
    "country = \"==\".join(countries)\n",
    "country.split(\"==\")"
   ]
  },
  {
   "cell_type": "code",
   "execution_count": 120,
   "metadata": {},
   "outputs": [
    {
     "data": {
      "text/plain": [
       "['title1', 'title2', 'title3', 'title4']"
      ]
     },
     "execution_count": 120,
     "metadata": {},
     "output_type": "execute_result"
    }
   ],
   "source": [
    "word = \"title1,title2,title3,title4\"\n",
    "word.split(\",\")"
   ]
  },
  {
   "cell_type": "code",
   "execution_count": 122,
   "metadata": {},
   "outputs": [
    {
     "name": "stdout",
     "output_type": "stream",
     "text": [
      "안녕, 나는 jins이야. 나는 운동,코딩,공부을 좋아해\n"
     ]
    }
   ],
   "source": [
    "# format\n",
    "name = \"jins\"\n",
    "hobby_list = ['운동', '코딩', '공부']\n",
    "print(\"안녕, 나는 {}이야. 나는 {},{},{}을 좋아해\".format(name,hobby_list[0],hobby_list[1],hobby_list[2]))"
   ]
  },
  {
   "cell_type": "code",
   "execution_count": 132,
   "metadata": {},
   "outputs": [
    {
     "name": "stdout",
     "output_type": "stream",
     "text": [
      "[3, 1, 4, 5, 6, 2]\n"
     ]
    }
   ],
   "source": [
    "#외장함수\n",
    "# 1. random\n",
    "\n",
    "import random\n",
    "random.randint(1, 7)\n",
    "\n",
    "a = [1,2,3,4,5,6]\n",
    "random.shuffle(a)\n",
    "print(a)"
   ]
  },
  {
   "cell_type": "code",
   "execution_count": 155,
   "metadata": {},
   "outputs": [
    {
     "name": "stdout",
     "output_type": "stream",
     "text": [
      "3.11\n"
     ]
    }
   ],
   "source": [
    "# sys => 시스템 함수\n",
    "import sys\n",
    "\n",
    "version = sys.version[0:4]\n",
    "print(version)\n"
   ]
  },
  {
   "cell_type": "code",
   "execution_count": 158,
   "metadata": {},
   "outputs": [
    {
     "data": {
      "text/plain": [
       "'c:\\\\Users\\\\sds76\\\\OneDrive\\\\바탕 화면\\\\python\\\\pythonO'"
      ]
     },
     "execution_count": 158,
     "metadata": {},
     "output_type": "execute_result"
    }
   ],
   "source": [
    "# os 함수\n",
    "\n",
    "import os\n",
    "\n",
    "# os.rmdir('가즈아') # 디렉토리 삭제\n",
    "# os.mkdir('가즈아') # 디렉토리 생성\n",
    "\n",
    "os.getcwd() # 현재 실행 파일의 경로를 나타내줌"
   ]
  },
  {
   "cell_type": "code",
   "execution_count": 162,
   "metadata": {},
   "outputs": [
    {
     "data": {
      "text/plain": [
       "time.struct_time(tm_year=2023, tm_mon=6, tm_mday=20, tm_hour=14, tm_min=11, tm_sec=1, tm_wday=1, tm_yday=171, tm_isdst=0)"
      ]
     },
     "execution_count": 162,
     "metadata": {},
     "output_type": "execute_result"
    }
   ],
   "source": [
    "# time 모듈\n",
    "import time\n",
    "\n",
    "time.localtime(time.time()) # 해당 서버의 시간을 기준으로 나타내줌 "
   ]
  },
  {
   "attachments": {},
   "cell_type": "markdown",
   "metadata": {},
   "source": [
    "### 클래스(class)\n",
    "- ObjectOrientedProgramming(OOP)(객체 지향 프로그래밍) => 가장 기본 단위가 클래스"
   ]
  },
  {
   "cell_type": "code",
   "execution_count": 164,
   "metadata": {},
   "outputs": [
    {
     "ename": "TypeError",
     "evalue": "FishBread.red_bean() missing 1 required positional argument: 'self'",
     "output_type": "error",
     "traceback": [
      "\u001b[1;31m---------------------------------------------------------------------------\u001b[0m",
      "\u001b[1;31mTypeError\u001b[0m                                 Traceback (most recent call last)",
      "Cell \u001b[1;32mIn[164], line 9\u001b[0m\n\u001b[0;32m      5\u001b[0m     \u001b[39mdef\u001b[39;00m \u001b[39msucream\u001b[39m(\u001b[39mself\u001b[39m):\n\u001b[0;32m      6\u001b[0m         \u001b[39mprint\u001b[39m(\u001b[39m\"\u001b[39m\u001b[39m이 붕어빵은\u001b[39m\u001b[39m\"\u001b[39m \u001b[39m+\u001b[39m \u001b[39mself\u001b[39m\u001b[39m.\u001b[39mname \u001b[39m+\u001b[39m \u001b[39m\"\u001b[39m\u001b[39m입니다.\u001b[39m\u001b[39m\"\u001b[39m)\n\u001b[1;32m----> 9\u001b[0m FishBread\u001b[39m.\u001b[39;49mred_bean();\n",
      "\u001b[1;31mTypeError\u001b[0m: FishBread.red_bean() missing 1 required positional argument: 'self'"
     ]
    }
   ],
   "source": [
    "class FishBread: #클래스는 여러개의 함수의 모임이며  붕어빵 틀이다.\n",
    "    def red_bean(self):\n",
    "        print(\"이 붕어빵은\" + self.name + \"입니다.\")\n",
    "\n",
    "    def sucream(self):\n",
    "        print(\"이 붕어빵은\" + self.name + \"입니다.\")\n",
    "\n",
    "\n",
    "FishBread.red_bean();"
   ]
  },
  {
   "cell_type": "code",
   "execution_count": 169,
   "metadata": {},
   "outputs": [
    {
     "name": "stdout",
     "output_type": "stream",
     "text": [
      "붕어빵 이름:팥 붕어빵, 재료:팥, 가격:500\n",
      "붕어빵 이름:슈크림 붕어빵, 재료:슈크림, 가격:1000\n"
     ]
    }
   ],
   "source": [
    "class FishBread:\n",
    "    #__init__ => 생성자 함수, 클래스가 실행될 때 가장 먼저 실행되는 함수\n",
    "    def __init__(self, name, ingredient, price):\n",
    "        self.name = name\n",
    "        self.ingredient = ingredient\n",
    "        self.price = price\n",
    "    def bread(self):\n",
    "        print(\"붕어빵 이름:{}, 재료:{}, 가격:{}\".format(self.name, self.ingredient, self.price))\n",
    "\n",
    "redbean_bread = FishBread(\"팥 붕어빵\", \"팥\", 500)\n",
    "redbean_bread.bread()\n",
    "\n",
    "sucream_bread = FishBread(\"슈크림 붕어빵\", \"슈크림\", 1000)\n",
    "sucream_bread.bread()"
   ]
  },
  {
   "cell_type": "code",
   "execution_count": null,
   "metadata": {},
   "outputs": [],
   "source": [
    "# 모듈\n",
    "# 변수 -> 함수 -> 클래스 -> 모듈 -> 패키지(라이브러리)\n",
    "# 모듈은 클래스의 모임 \n",
    "# 패키지는 모듈의 모임"
   ]
  }
 ],
 "metadata": {
  "kernelspec": {
   "display_name": "Python 3",
   "language": "python",
   "name": "python3"
  },
  "language_info": {
   "codemirror_mode": {
    "name": "ipython",
    "version": 3
   },
   "file_extension": ".py",
   "mimetype": "text/x-python",
   "name": "python",
   "nbconvert_exporter": "python",
   "pygments_lexer": "ipython3",
   "version": "3.11.3"
  },
  "orig_nbformat": 4
 },
 "nbformat": 4,
 "nbformat_minor": 2
}
