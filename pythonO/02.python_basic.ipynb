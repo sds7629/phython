{
 "cells": [
  {
   "cell_type": "code",
   "execution_count": 1,
   "metadata": {},
   "outputs": [
    {
     "ename": "ModuleNotFoundError",
     "evalue": "No module named 'selenium'",
     "output_type": "error",
     "traceback": [
      "\u001b[1;31m---------------------------------------------------------------------------\u001b[0m",
      "\u001b[1;31mModuleNotFoundError\u001b[0m                       Traceback (most recent call last)",
      "Cell \u001b[1;32mIn[1], line 1\u001b[0m\n\u001b[1;32m----> 1\u001b[0m \u001b[39mfrom\u001b[39;00m \u001b[39mselenium\u001b[39;00m \u001b[39mimport\u001b[39;00m webdriver\n",
      "\u001b[1;31mModuleNotFoundError\u001b[0m: No module named 'selenium'"
     ]
    }
   ],
   "source": [
    "from selenium import webdriver"
   ]
  },
  {
   "attachments": {},
   "cell_type": "markdown",
   "metadata": {},
   "source": [
    "## 셀레늄\n",
    "- 데이터 크롤링"
   ]
  },
  {
   "cell_type": "code",
   "execution_count": 2,
   "metadata": {},
   "outputs": [
    {
     "name": "stdout",
     "output_type": "stream",
     "text": [
      "Collecting seleniumNote: you may need to restart the kernel to use updated packages.\n",
      "\n",
      "  Downloading selenium-4.10.0-py3-none-any.whl (6.7 MB)\n",
      "     ---------------------------------------- 6.7/6.7 MB 385.8 kB/s eta 0:00:00\n",
      "Collecting urllib3[socks]<3,>=1.26\n",
      "  Downloading urllib3-2.0.3-py3-none-any.whl (123 kB)\n",
      "     -------------------------------------- 123.6/123.6 kB 2.4 MB/s eta 0:00:00\n",
      "Collecting trio~=0.17\n",
      "  Downloading trio-0.22.0-py3-none-any.whl (384 kB)\n",
      "     -------------------------------------- 384.9/384.9 kB 2.7 MB/s eta 0:00:00\n",
      "Collecting trio-websocket~=0.9\n",
      "  Downloading trio_websocket-0.10.3-py3-none-any.whl (17 kB)\n",
      "Collecting certifi>=2021.10.8\n",
      "  Downloading certifi-2023.5.7-py3-none-any.whl (156 kB)\n",
      "     -------------------------------------- 157.0/157.0 kB 2.4 MB/s eta 0:00:00\n",
      "Collecting attrs>=19.2.0\n",
      "  Downloading attrs-23.1.0-py3-none-any.whl (61 kB)\n",
      "     ---------------------------------------- 61.2/61.2 kB 1.6 MB/s eta 0:00:00\n",
      "Collecting sortedcontainers\n",
      "  Downloading sortedcontainers-2.4.0-py2.py3-none-any.whl (29 kB)\n",
      "Collecting async-generator>=1.9\n",
      "  Downloading async_generator-1.10-py3-none-any.whl (18 kB)\n",
      "Collecting idna\n",
      "  Downloading idna-3.4-py3-none-any.whl (61 kB)\n",
      "     ---------------------------------------- 61.5/61.5 kB 1.7 MB/s eta 0:00:00\n",
      "Collecting outcome\n",
      "  Downloading outcome-1.2.0-py2.py3-none-any.whl (9.7 kB)\n",
      "Collecting sniffio\n",
      "  Downloading sniffio-1.3.0-py3-none-any.whl (10 kB)\n",
      "Collecting cffi>=1.14\n",
      "  Downloading cffi-1.15.1-cp311-cp311-win_amd64.whl (179 kB)\n",
      "     -------------------------------------- 179.0/179.0 kB 2.7 MB/s eta 0:00:00\n",
      "Collecting exceptiongroup\n",
      "  Downloading exceptiongroup-1.1.1-py3-none-any.whl (14 kB)\n",
      "Collecting wsproto>=0.14\n",
      "  Downloading wsproto-1.2.0-py3-none-any.whl (24 kB)\n",
      "Collecting pysocks!=1.5.7,<2.0,>=1.5.6\n",
      "  Downloading PySocks-1.7.1-py3-none-any.whl (16 kB)\n",
      "Collecting pycparser\n",
      "  Downloading pycparser-2.21-py2.py3-none-any.whl (118 kB)\n",
      "     -------------------------------------- 118.7/118.7 kB 2.3 MB/s eta 0:00:00\n",
      "Collecting h11<1,>=0.9.0\n",
      "  Downloading h11-0.14.0-py3-none-any.whl (58 kB)\n",
      "     ---------------------------------------- 58.3/58.3 kB 3.2 MB/s eta 0:00:00\n",
      "Installing collected packages: sortedcontainers, urllib3, sniffio, pysocks, pycparser, idna, h11, exceptiongroup, certifi, attrs, async-generator, wsproto, outcome, cffi, trio, trio-websocket, selenium\n",
      "Successfully installed async-generator-1.10 attrs-23.1.0 certifi-2023.5.7 cffi-1.15.1 exceptiongroup-1.1.1 h11-0.14.0 idna-3.4 outcome-1.2.0 pycparser-2.21 pysocks-1.7.1 selenium-4.10.0 sniffio-1.3.0 sortedcontainers-2.4.0 trio-0.22.0 trio-websocket-0.10.3 urllib3-2.0.3 wsproto-1.2.0\n"
     ]
    },
    {
     "name": "stderr",
     "output_type": "stream",
     "text": [
      "\n",
      "[notice] A new release of pip available: 22.3.1 -> 23.1.2\n",
      "[notice] To update, run: python.exe -m pip install --upgrade pip\n"
     ]
    }
   ],
   "source": [
    "%pip install selenium"
   ]
  },
  {
   "cell_type": "code",
   "execution_count": 1,
   "metadata": {},
   "outputs": [],
   "source": [
    "from selenium import webdriver\n",
    "\n",
    "browser = webdriver.Chrome()"
   ]
  },
  {
   "cell_type": "code",
   "execution_count": 2,
   "metadata": {},
   "outputs": [],
   "source": [
    "browser.get(\"https://www.naver.com\")"
   ]
  },
  {
   "cell_type": "code",
   "execution_count": 7,
   "metadata": {},
   "outputs": [
    {
     "name": "stdout",
     "output_type": "stream",
     "text": [
      "['메일', '카페', '블로그', '쇼핑', '뉴스', '증권', '부동산', '지도', '웹툰', '바로가기 펼침']\n"
     ]
    }
   ],
   "source": [
    "from selenium.webdriver.common.by import By\n",
    "a = browser.find_element(By.CLASS_NAME, 'shortcut_list').text.split(\"\\n\")\n",
    "print(a)"
   ]
  },
  {
   "cell_type": "code",
   "execution_count": 10,
   "metadata": {},
   "outputs": [],
   "source": [
    "browser.find_element(By.ID,'query').click()"
   ]
  },
  {
   "cell_type": "code",
   "execution_count": 11,
   "metadata": {},
   "outputs": [],
   "source": [
    "browser.find_element(By.ID,'query').send_keys(\"날씨\")"
   ]
  },
  {
   "cell_type": "code",
   "execution_count": 12,
   "metadata": {},
   "outputs": [],
   "source": [
    "browser.find_element(By.CLASS_NAME, 'btn_search').click()"
   ]
  },
  {
   "cell_type": "code",
   "execution_count": 26,
   "metadata": {},
   "outputs": [
    {
     "data": {
      "text/plain": [
       "'현재 온도'"
      ]
     },
     "execution_count": 26,
     "metadata": {},
     "output_type": "execute_result"
    }
   ],
   "source": [
    "browser.find_element(By.CLASS_NAME, 'temperature_text').find_element(By.CLASS_NAME, \"blind\").text"
   ]
  },
  {
   "cell_type": "code",
   "execution_count": 47,
   "metadata": {},
   "outputs": [
    {
     "name": "stdout",
     "output_type": "stream",
     "text": [
      "['23.1°', '95%', '0.6m/s']\n"
     ]
    }
   ],
   "source": [
    "parent = browser.find_element(By.CLASS_NAME, 'temperature_info')\n",
    "child1 = parent.find_element(By.TAG_NAME, 'p').text\n",
    "child2 = parent.find_elements(By.CLASS_NAME, 'sort')\n",
    "\n",
    "data_list = []\n",
    "for i in child2:\n",
    "    data_list.append(i.find_element(By.CLASS_NAME, 'desc').text)\n",
    "\n",
    "print(data_list)"
   ]
  },
  {
   "cell_type": "code",
   "execution_count": 53,
   "metadata": {},
   "outputs": [],
   "source": [
    "url = \"https://search.naver.com/search.naver?sm=tab_hty.top&where=nexearch&query=%ED%99%98%EC%9C%A8&oquery=%EB%82%A0%EC%94%A8&tqi=i55N%2BdprvxZssZq3fhossssstOZ-279200\"\n",
    "browser.get(url)"
   ]
  },
  {
   "cell_type": "code",
   "execution_count": 59,
   "metadata": {},
   "outputs": [
    {
     "data": {
      "text/plain": [
       "'1,291.80'"
      ]
     },
     "execution_count": 59,
     "metadata": {},
     "output_type": "execute_result"
    }
   ],
   "source": [
    "browser.find_element(By.XPATH, '//*[@id=\"_cs_foreigninfo\"]/div[1]/div[2]/div/div[1]/div[1]/div[1]/div[1]/h3/a/span[2]/strong').text"
   ]
  },
  {
   "attachments": {},
   "cell_type": "markdown",
   "metadata": {},
   "source": [
    "### 구글 뉴스 크롤링"
   ]
  },
  {
   "cell_type": "code",
   "execution_count": 117,
   "metadata": {},
   "outputs": [
    {
     "ename": "NoSuchWindowException",
     "evalue": "Message: no such window: target window already closed\nfrom unknown error: web view not found\n  (Session info: chrome=114.0.5735.134)\nStacktrace:\nBacktrace:\n\tGetHandleVerifier [0x007FA813+48355]\n\t(No symbol) [0x0078C4B1]\n\t(No symbol) [0x00695358]\n\t(No symbol) [0x0067D293]\n\t(No symbol) [0x006DE37B]\n\t(No symbol) [0x006EC473]\n\t(No symbol) [0x006DA536]\n\t(No symbol) [0x006B82DC]\n\t(No symbol) [0x006B93DD]\n\tGetHandleVerifier [0x00A5AABD+2539405]\n\tGetHandleVerifier [0x00A9A78F+2800735]\n\tGetHandleVerifier [0x00A9456C+2775612]\n\tGetHandleVerifier [0x008851E0+616112]\n\t(No symbol) [0x00795F8C]\n\t(No symbol) [0x00792328]\n\t(No symbol) [0x0079240B]\n\t(No symbol) [0x00784FF7]\n\tBaseThreadInitThunk [0x76E200C9+25]\n\tRtlGetAppContainerNamedObjectPath [0x76F67B4E+286]\n\tRtlGetAppContainerNamedObjectPath [0x76F67B1E+238]\n",
     "output_type": "error",
     "traceback": [
      "\u001b[1;31m---------------------------------------------------------------------------\u001b[0m",
      "\u001b[1;31mNoSuchWindowException\u001b[0m                     Traceback (most recent call last)",
      "Cell \u001b[1;32mIn[117], line 2\u001b[0m\n\u001b[0;32m      1\u001b[0m url \u001b[39m=\u001b[39m\u001b[39m'\u001b[39m\u001b[39mhttps://www.google.com/search?q=\u001b[39m\u001b[39m%E\u001b[39;00m\u001b[39mC\u001b[39m\u001b[39m%9E\u001b[39;00m\u001b[39m%90%\u001b[39;00m\u001b[39mEB\u001b[39m\u001b[39m%8F\u001b[39;00m\u001b[39m%99%\u001b[39;00m\u001b[39mED\u001b[39m\u001b[39m%99%\u001b[39;00m\u001b[39m94&rlz=1C1YTUH_koKR1060KR1060&biw=981&bih=708&tbm=nws&ei=K3aSZJCAEsSjwAPQ0IDoAQ&ved=0ahUKEwjQwficvdP_AhXEEXAKHVAoAB0Q4dUDCA0&uact=5&oq=\u001b[39m\u001b[39m%E\u001b[39;00m\u001b[39mC\u001b[39m\u001b[39m%9E\u001b[39;00m\u001b[39m%90%\u001b[39;00m\u001b[39mEB\u001b[39m\u001b[39m%8F\u001b[39;00m\u001b[39m%99%\u001b[39;00m\u001b[39mED\u001b[39m\u001b[39m%99%\u001b[39;00m\u001b[39m94&gs_lcp=Cgxnd3Mtd2l6LW5ld3MQAzIICAAQgAQQsQMyCwgAEIAEELEDEIMBMgsIABCABBCxAxCDATILCAAQgAQQsQMQgwEyCwgAEIAEELEDEIMBMgsIABCABBCxAxCDATILCAAQgAQQsQMQgwEyCwgAEIAEELEDEIMBMgsIABCABBCxAxCDATILCAAQgAQQsQMQgwE6BwgAEIoFEEM6BQgAEIAEOgQIABAeOgYIABAeEA86BAgAEANQmAFYg2JgiWJoBHAAeACAAWSIAbcGkgEDOS4xmAEAoAEBsAEAwAEB&sclient=gws-wiz-news\u001b[39m\u001b[39m'\u001b[39m\n\u001b[1;32m----> 2\u001b[0m browser\u001b[39m.\u001b[39;49mget(url)\n\u001b[0;32m      3\u001b[0m browser\u001b[39m.\u001b[39mtitle\n",
      "File \u001b[1;32mc:\\Users\\sds76\\AppData\\Local\\Programs\\Python\\Python311\\Lib\\site-packages\\selenium\\webdriver\\remote\\webdriver.py:355\u001b[0m, in \u001b[0;36mWebDriver.get\u001b[1;34m(self, url)\u001b[0m\n\u001b[0;32m    353\u001b[0m \u001b[39mdef\u001b[39;00m \u001b[39mget\u001b[39m(\u001b[39mself\u001b[39m, url: \u001b[39mstr\u001b[39m) \u001b[39m-\u001b[39m\u001b[39m>\u001b[39m \u001b[39mNone\u001b[39;00m:\n\u001b[0;32m    354\u001b[0m \u001b[39m    \u001b[39m\u001b[39m\"\"\"Loads a web page in the current browser session.\"\"\"\u001b[39;00m\n\u001b[1;32m--> 355\u001b[0m     \u001b[39mself\u001b[39;49m\u001b[39m.\u001b[39;49mexecute(Command\u001b[39m.\u001b[39;49mGET, {\u001b[39m\"\u001b[39;49m\u001b[39murl\u001b[39;49m\u001b[39m\"\u001b[39;49m: url})\n",
      "File \u001b[1;32mc:\\Users\\sds76\\AppData\\Local\\Programs\\Python\\Python311\\Lib\\site-packages\\selenium\\webdriver\\remote\\webdriver.py:346\u001b[0m, in \u001b[0;36mWebDriver.execute\u001b[1;34m(self, driver_command, params)\u001b[0m\n\u001b[0;32m    344\u001b[0m response \u001b[39m=\u001b[39m \u001b[39mself\u001b[39m\u001b[39m.\u001b[39mcommand_executor\u001b[39m.\u001b[39mexecute(driver_command, params)\n\u001b[0;32m    345\u001b[0m \u001b[39mif\u001b[39;00m response:\n\u001b[1;32m--> 346\u001b[0m     \u001b[39mself\u001b[39;49m\u001b[39m.\u001b[39;49merror_handler\u001b[39m.\u001b[39;49mcheck_response(response)\n\u001b[0;32m    347\u001b[0m     response[\u001b[39m\"\u001b[39m\u001b[39mvalue\u001b[39m\u001b[39m\"\u001b[39m] \u001b[39m=\u001b[39m \u001b[39mself\u001b[39m\u001b[39m.\u001b[39m_unwrap_value(response\u001b[39m.\u001b[39mget(\u001b[39m\"\u001b[39m\u001b[39mvalue\u001b[39m\u001b[39m\"\u001b[39m, \u001b[39mNone\u001b[39;00m))\n\u001b[0;32m    348\u001b[0m     \u001b[39mreturn\u001b[39;00m response\n",
      "File \u001b[1;32mc:\\Users\\sds76\\AppData\\Local\\Programs\\Python\\Python311\\Lib\\site-packages\\selenium\\webdriver\\remote\\errorhandler.py:245\u001b[0m, in \u001b[0;36mErrorHandler.check_response\u001b[1;34m(self, response)\u001b[0m\n\u001b[0;32m    243\u001b[0m         alert_text \u001b[39m=\u001b[39m value[\u001b[39m\"\u001b[39m\u001b[39malert\u001b[39m\u001b[39m\"\u001b[39m]\u001b[39m.\u001b[39mget(\u001b[39m\"\u001b[39m\u001b[39mtext\u001b[39m\u001b[39m\"\u001b[39m)\n\u001b[0;32m    244\u001b[0m     \u001b[39mraise\u001b[39;00m exception_class(message, screen, stacktrace, alert_text)  \u001b[39m# type: ignore[call-arg]  # mypy is not smart enough here\u001b[39;00m\n\u001b[1;32m--> 245\u001b[0m \u001b[39mraise\u001b[39;00m exception_class(message, screen, stacktrace)\n",
      "\u001b[1;31mNoSuchWindowException\u001b[0m: Message: no such window: target window already closed\nfrom unknown error: web view not found\n  (Session info: chrome=114.0.5735.134)\nStacktrace:\nBacktrace:\n\tGetHandleVerifier [0x007FA813+48355]\n\t(No symbol) [0x0078C4B1]\n\t(No symbol) [0x00695358]\n\t(No symbol) [0x0067D293]\n\t(No symbol) [0x006DE37B]\n\t(No symbol) [0x006EC473]\n\t(No symbol) [0x006DA536]\n\t(No symbol) [0x006B82DC]\n\t(No symbol) [0x006B93DD]\n\tGetHandleVerifier [0x00A5AABD+2539405]\n\tGetHandleVerifier [0x00A9A78F+2800735]\n\tGetHandleVerifier [0x00A9456C+2775612]\n\tGetHandleVerifier [0x008851E0+616112]\n\t(No symbol) [0x00795F8C]\n\t(No symbol) [0x00792328]\n\t(No symbol) [0x0079240B]\n\t(No symbol) [0x00784FF7]\n\tBaseThreadInitThunk [0x76E200C9+25]\n\tRtlGetAppContainerNamedObjectPath [0x76F67B4E+286]\n\tRtlGetAppContainerNamedObjectPath [0x76F67B1E+238]\n"
     ]
    }
   ],
   "source": [
    "url ='https://www.google.com/search?q=%EC%9E%90%EB%8F%99%ED%99%94&rlz=1C1YTUH_koKR1060KR1060&biw=981&bih=708&tbm=nws&ei=K3aSZJCAEsSjwAPQ0IDoAQ&ved=0ahUKEwjQwficvdP_AhXEEXAKHVAoAB0Q4dUDCA0&uact=5&oq=%EC%9E%90%EB%8F%99%ED%99%94&gs_lcp=Cgxnd3Mtd2l6LW5ld3MQAzIICAAQgAQQsQMyCwgAEIAEELEDEIMBMgsIABCABBCxAxCDATILCAAQgAQQsQMQgwEyCwgAEIAEELEDEIMBMgsIABCABBCxAxCDATILCAAQgAQQsQMQgwEyCwgAEIAEELEDEIMBMgsIABCABBCxAxCDATILCAAQgAQQsQMQgwE6BwgAEIoFEEM6BQgAEIAEOgQIABAeOgYIABAeEA86BAgAEANQmAFYg2JgiWJoBHAAeACAAWSIAbcGkgEDOS4xmAEAoAEBsAEAwAEB&sclient=gws-wiz-news'\n",
    "browser.get(url)\n",
    "browser.title"
   ]
  },
  {
   "cell_type": "code",
   "execution_count": 67,
   "metadata": {},
   "outputs": [
    {
     "name": "stdout",
     "output_type": "stream",
     "text": [
      "뉴로메카-원익로보틱스, 로봇 자동화 개발 맞손\n",
      "협동로봇 제조기업 뉴로메카가 19일 원익로보틱스와 판교 원익빌딩에서 로봇·자동화 개발 사업 추진을 위한 상호 협력 양해각서를 체결했다.\n"
     ]
    }
   ],
   "source": [
    "# 뉴스 제목\n",
    "# 뉴스 내용\n",
    "# 언론사 \n",
    "# 작성 시간\n",
    "\n",
    "name = browser.find_element(By.XPATH, '//*[@id=\"rso\"]/div/div/div[1]/div/div/a/div/div[2]/div[2]').text\n",
    "content = browser.find_element(By.XPATH, '//*[@id=\"rso\"]/div/div/div[1]/div/div/a/div/div[2]/div[3]').text\n",
    "\n",
    "print(name)\n",
    "print(content)"
   ]
  },
  {
   "cell_type": "code",
   "execution_count": 119,
   "metadata": {},
   "outputs": [
    {
     "ename": "NoSuchWindowException",
     "evalue": "Message: no such window: target window already closed\nfrom unknown error: web view not found\n  (Session info: chrome=114.0.5735.134)\nStacktrace:\nBacktrace:\n\tGetHandleVerifier [0x007FA813+48355]\n\t(No symbol) [0x0078C4B1]\n\t(No symbol) [0x00695358]\n\t(No symbol) [0x0067D293]\n\t(No symbol) [0x006DE37B]\n\t(No symbol) [0x006EC473]\n\t(No symbol) [0x006DA536]\n\t(No symbol) [0x006B82DC]\n\t(No symbol) [0x006B93DD]\n\tGetHandleVerifier [0x00A5AABD+2539405]\n\tGetHandleVerifier [0x00A9A78F+2800735]\n\tGetHandleVerifier [0x00A9456C+2775612]\n\tGetHandleVerifier [0x008851E0+616112]\n\t(No symbol) [0x00795F8C]\n\t(No symbol) [0x00792328]\n\t(No symbol) [0x0079240B]\n\t(No symbol) [0x00784FF7]\n\tBaseThreadInitThunk [0x76E200C9+25]\n\tRtlGetAppContainerNamedObjectPath [0x76F67B4E+286]\n\tRtlGetAppContainerNamedObjectPath [0x76F67B1E+238]\n",
     "output_type": "error",
     "traceback": [
      "\u001b[1;31m---------------------------------------------------------------------------\u001b[0m",
      "\u001b[1;31mNoSuchWindowException\u001b[0m                     Traceback (most recent call last)",
      "Cell \u001b[1;32mIn[119], line 1\u001b[0m\n\u001b[1;32m----> 1\u001b[0m main \u001b[39m=\u001b[39m browser\u001b[39m.\u001b[39;49mfind_element(By\u001b[39m.\u001b[39;49mCLASS_NAME, \u001b[39m\"\u001b[39;49m\u001b[39miRPxbe\u001b[39;49m\u001b[39m\"\u001b[39;49m)\n\u001b[0;32m      2\u001b[0m title \u001b[39m=\u001b[39m main\u001b[39m.\u001b[39mfind_elements(By\u001b[39m.\u001b[39mTAG_NAME, \u001b[39m\"\u001b[39m\u001b[39mdiv\u001b[39m\u001b[39m\"\u001b[39m)\n\u001b[0;32m      3\u001b[0m \u001b[39mfor\u001b[39;00m i \u001b[39min\u001b[39;00m title:\n",
      "File \u001b[1;32mc:\\Users\\sds76\\AppData\\Local\\Programs\\Python\\Python311\\Lib\\site-packages\\selenium\\webdriver\\remote\\webdriver.py:740\u001b[0m, in \u001b[0;36mWebDriver.find_element\u001b[1;34m(self, by, value)\u001b[0m\n\u001b[0;32m    737\u001b[0m     by \u001b[39m=\u001b[39m By\u001b[39m.\u001b[39mCSS_SELECTOR\n\u001b[0;32m    738\u001b[0m     value \u001b[39m=\u001b[39m \u001b[39mf\u001b[39m\u001b[39m'\u001b[39m\u001b[39m[name=\u001b[39m\u001b[39m\"\u001b[39m\u001b[39m{\u001b[39;00mvalue\u001b[39m}\u001b[39;00m\u001b[39m\"\u001b[39m\u001b[39m]\u001b[39m\u001b[39m'\u001b[39m\n\u001b[1;32m--> 740\u001b[0m \u001b[39mreturn\u001b[39;00m \u001b[39mself\u001b[39;49m\u001b[39m.\u001b[39;49mexecute(Command\u001b[39m.\u001b[39;49mFIND_ELEMENT, {\u001b[39m\"\u001b[39;49m\u001b[39musing\u001b[39;49m\u001b[39m\"\u001b[39;49m: by, \u001b[39m\"\u001b[39;49m\u001b[39mvalue\u001b[39;49m\u001b[39m\"\u001b[39;49m: value})[\u001b[39m\"\u001b[39m\u001b[39mvalue\u001b[39m\u001b[39m\"\u001b[39m]\n",
      "File \u001b[1;32mc:\\Users\\sds76\\AppData\\Local\\Programs\\Python\\Python311\\Lib\\site-packages\\selenium\\webdriver\\remote\\webdriver.py:346\u001b[0m, in \u001b[0;36mWebDriver.execute\u001b[1;34m(self, driver_command, params)\u001b[0m\n\u001b[0;32m    344\u001b[0m response \u001b[39m=\u001b[39m \u001b[39mself\u001b[39m\u001b[39m.\u001b[39mcommand_executor\u001b[39m.\u001b[39mexecute(driver_command, params)\n\u001b[0;32m    345\u001b[0m \u001b[39mif\u001b[39;00m response:\n\u001b[1;32m--> 346\u001b[0m     \u001b[39mself\u001b[39;49m\u001b[39m.\u001b[39;49merror_handler\u001b[39m.\u001b[39;49mcheck_response(response)\n\u001b[0;32m    347\u001b[0m     response[\u001b[39m\"\u001b[39m\u001b[39mvalue\u001b[39m\u001b[39m\"\u001b[39m] \u001b[39m=\u001b[39m \u001b[39mself\u001b[39m\u001b[39m.\u001b[39m_unwrap_value(response\u001b[39m.\u001b[39mget(\u001b[39m\"\u001b[39m\u001b[39mvalue\u001b[39m\u001b[39m\"\u001b[39m, \u001b[39mNone\u001b[39;00m))\n\u001b[0;32m    348\u001b[0m     \u001b[39mreturn\u001b[39;00m response\n",
      "File \u001b[1;32mc:\\Users\\sds76\\AppData\\Local\\Programs\\Python\\Python311\\Lib\\site-packages\\selenium\\webdriver\\remote\\errorhandler.py:245\u001b[0m, in \u001b[0;36mErrorHandler.check_response\u001b[1;34m(self, response)\u001b[0m\n\u001b[0;32m    243\u001b[0m         alert_text \u001b[39m=\u001b[39m value[\u001b[39m\"\u001b[39m\u001b[39malert\u001b[39m\u001b[39m\"\u001b[39m]\u001b[39m.\u001b[39mget(\u001b[39m\"\u001b[39m\u001b[39mtext\u001b[39m\u001b[39m\"\u001b[39m)\n\u001b[0;32m    244\u001b[0m     \u001b[39mraise\u001b[39;00m exception_class(message, screen, stacktrace, alert_text)  \u001b[39m# type: ignore[call-arg]  # mypy is not smart enough here\u001b[39;00m\n\u001b[1;32m--> 245\u001b[0m \u001b[39mraise\u001b[39;00m exception_class(message, screen, stacktrace)\n",
      "\u001b[1;31mNoSuchWindowException\u001b[0m: Message: no such window: target window already closed\nfrom unknown error: web view not found\n  (Session info: chrome=114.0.5735.134)\nStacktrace:\nBacktrace:\n\tGetHandleVerifier [0x007FA813+48355]\n\t(No symbol) [0x0078C4B1]\n\t(No symbol) [0x00695358]\n\t(No symbol) [0x0067D293]\n\t(No symbol) [0x006DE37B]\n\t(No symbol) [0x006EC473]\n\t(No symbol) [0x006DA536]\n\t(No symbol) [0x006B82DC]\n\t(No symbol) [0x006B93DD]\n\tGetHandleVerifier [0x00A5AABD+2539405]\n\tGetHandleVerifier [0x00A9A78F+2800735]\n\tGetHandleVerifier [0x00A9456C+2775612]\n\tGetHandleVerifier [0x008851E0+616112]\n\t(No symbol) [0x00795F8C]\n\t(No symbol) [0x00792328]\n\t(No symbol) [0x0079240B]\n\t(No symbol) [0x00784FF7]\n\tBaseThreadInitThunk [0x76E200C9+25]\n\tRtlGetAppContainerNamedObjectPath [0x76F67B4E+286]\n\tRtlGetAppContainerNamedObjectPath [0x76F67B1E+238]\n"
     ]
    }
   ],
   "source": [
    "main = browser.find_element(By.CLASS_NAME, \"iRPxbe\")\n",
    "title = main.find_elements(By.TAG_NAME, \"div\")\n",
    "for i in title:\n",
    "    print(i.text)\n"
   ]
  },
  {
   "cell_type": "code",
   "execution_count": 121,
   "metadata": {},
   "outputs": [
    {
     "ename": "NoSuchWindowException",
     "evalue": "Message: no such window: target window already closed\nfrom unknown error: web view not found\n  (Session info: chrome=114.0.5735.134)\nStacktrace:\nBacktrace:\n\tGetHandleVerifier [0x007FA813+48355]\n\t(No symbol) [0x0078C4B1]\n\t(No symbol) [0x00695358]\n\t(No symbol) [0x0067D293]\n\t(No symbol) [0x006DE37B]\n\t(No symbol) [0x006EC473]\n\t(No symbol) [0x006DA536]\n\t(No symbol) [0x006B82DC]\n\t(No symbol) [0x006B93DD]\n\tGetHandleVerifier [0x00A5AABD+2539405]\n\tGetHandleVerifier [0x00A9A78F+2800735]\n\tGetHandleVerifier [0x00A9456C+2775612]\n\tGetHandleVerifier [0x008851E0+616112]\n\t(No symbol) [0x00795F8C]\n\t(No symbol) [0x00792328]\n\t(No symbol) [0x0079240B]\n\t(No symbol) [0x00784FF7]\n\tBaseThreadInitThunk [0x76E200C9+25]\n\tRtlGetAppContainerNamedObjectPath [0x76F67B4E+286]\n\tRtlGetAppContainerNamedObjectPath [0x76F67B1E+238]\n",
     "output_type": "error",
     "traceback": [
      "\u001b[1;31m---------------------------------------------------------------------------\u001b[0m",
      "\u001b[1;31mNoSuchWindowException\u001b[0m                     Traceback (most recent call last)",
      "Cell \u001b[1;32mIn[121], line 2\u001b[0m\n\u001b[0;32m      1\u001b[0m url \u001b[39m=\u001b[39m\u001b[39m'\u001b[39m\u001b[39mhttps://www.google.com/search?q=\u001b[39m\u001b[39m%E\u001b[39;00m\u001b[39mC\u001b[39m\u001b[39m%9E\u001b[39;00m\u001b[39m%90%\u001b[39;00m\u001b[39mEB\u001b[39m\u001b[39m%8F\u001b[39;00m\u001b[39m%99%\u001b[39;00m\u001b[39mED\u001b[39m\u001b[39m%99%\u001b[39;00m\u001b[39m94&rlz=1C1YTUH_koKR1060KR1060&biw=981&bih=708&tbm=nws&ei=K3aSZJCAEsSjwAPQ0IDoAQ&ved=0ahUKEwjQwficvdP_AhXEEXAKHVAoAB0Q4dUDCA0&uact=5&oq=\u001b[39m\u001b[39m%E\u001b[39;00m\u001b[39mC\u001b[39m\u001b[39m%9E\u001b[39;00m\u001b[39m%90%\u001b[39;00m\u001b[39mEB\u001b[39m\u001b[39m%8F\u001b[39;00m\u001b[39m%99%\u001b[39;00m\u001b[39mED\u001b[39m\u001b[39m%99%\u001b[39;00m\u001b[39m94&gs_lcp=Cgxnd3Mtd2l6LW5ld3MQAzIICAAQgAQQsQMyCwgAEIAEELEDEIMBMgsIABCABBCxAxCDATILCAAQgAQQsQMQgwEyCwgAEIAEELEDEIMBMgsIABCABBCxAxCDATILCAAQgAQQsQMQgwEyCwgAEIAEELEDEIMBMgsIABCABBCxAxCDATILCAAQgAQQsQMQgwE6BwgAEIoFEEM6BQgAEIAEOgQIABAeOgYIABAeEA86BAgAEANQmAFYg2JgiWJoBHAAeACAAWSIAbcGkgEDOS4xmAEAoAEBsAEAwAEB&sclient=gws-wiz-news\u001b[39m\u001b[39m'\u001b[39m\n\u001b[1;32m----> 2\u001b[0m browser\u001b[39m.\u001b[39;49mget(url)\n\u001b[0;32m      3\u001b[0m \u001b[39m# main_title = browser.find_element(By.CLASS_NAME, \"MjjYud\")\u001b[39;00m\n\u001b[0;32m      4\u001b[0m \u001b[39m# main_content = main_title.find_elements(By.CLASS_NAME, \"SoaBEf\")\u001b[39;00m\n\u001b[0;32m      5\u001b[0m \u001b[39m# links_selector = \"#rso > div > div > div:nth-child(1) > div > div > a\"\u001b[39;00m\n\u001b[1;32m   (...)\u001b[0m\n\u001b[0;32m      9\u001b[0m \u001b[39m#     list.append(i.text)\u001b[39;00m\n\u001b[0;32m     10\u001b[0m \u001b[39m#     print(i.text)\u001b[39;00m\n",
      "File \u001b[1;32mc:\\Users\\sds76\\AppData\\Local\\Programs\\Python\\Python311\\Lib\\site-packages\\selenium\\webdriver\\remote\\webdriver.py:355\u001b[0m, in \u001b[0;36mWebDriver.get\u001b[1;34m(self, url)\u001b[0m\n\u001b[0;32m    353\u001b[0m \u001b[39mdef\u001b[39;00m \u001b[39mget\u001b[39m(\u001b[39mself\u001b[39m, url: \u001b[39mstr\u001b[39m) \u001b[39m-\u001b[39m\u001b[39m>\u001b[39m \u001b[39mNone\u001b[39;00m:\n\u001b[0;32m    354\u001b[0m \u001b[39m    \u001b[39m\u001b[39m\"\"\"Loads a web page in the current browser session.\"\"\"\u001b[39;00m\n\u001b[1;32m--> 355\u001b[0m     \u001b[39mself\u001b[39;49m\u001b[39m.\u001b[39;49mexecute(Command\u001b[39m.\u001b[39;49mGET, {\u001b[39m\"\u001b[39;49m\u001b[39murl\u001b[39;49m\u001b[39m\"\u001b[39;49m: url})\n",
      "File \u001b[1;32mc:\\Users\\sds76\\AppData\\Local\\Programs\\Python\\Python311\\Lib\\site-packages\\selenium\\webdriver\\remote\\webdriver.py:346\u001b[0m, in \u001b[0;36mWebDriver.execute\u001b[1;34m(self, driver_command, params)\u001b[0m\n\u001b[0;32m    344\u001b[0m response \u001b[39m=\u001b[39m \u001b[39mself\u001b[39m\u001b[39m.\u001b[39mcommand_executor\u001b[39m.\u001b[39mexecute(driver_command, params)\n\u001b[0;32m    345\u001b[0m \u001b[39mif\u001b[39;00m response:\n\u001b[1;32m--> 346\u001b[0m     \u001b[39mself\u001b[39;49m\u001b[39m.\u001b[39;49merror_handler\u001b[39m.\u001b[39;49mcheck_response(response)\n\u001b[0;32m    347\u001b[0m     response[\u001b[39m\"\u001b[39m\u001b[39mvalue\u001b[39m\u001b[39m\"\u001b[39m] \u001b[39m=\u001b[39m \u001b[39mself\u001b[39m\u001b[39m.\u001b[39m_unwrap_value(response\u001b[39m.\u001b[39mget(\u001b[39m\"\u001b[39m\u001b[39mvalue\u001b[39m\u001b[39m\"\u001b[39m, \u001b[39mNone\u001b[39;00m))\n\u001b[0;32m    348\u001b[0m     \u001b[39mreturn\u001b[39;00m response\n",
      "File \u001b[1;32mc:\\Users\\sds76\\AppData\\Local\\Programs\\Python\\Python311\\Lib\\site-packages\\selenium\\webdriver\\remote\\errorhandler.py:245\u001b[0m, in \u001b[0;36mErrorHandler.check_response\u001b[1;34m(self, response)\u001b[0m\n\u001b[0;32m    243\u001b[0m         alert_text \u001b[39m=\u001b[39m value[\u001b[39m\"\u001b[39m\u001b[39malert\u001b[39m\u001b[39m\"\u001b[39m]\u001b[39m.\u001b[39mget(\u001b[39m\"\u001b[39m\u001b[39mtext\u001b[39m\u001b[39m\"\u001b[39m)\n\u001b[0;32m    244\u001b[0m     \u001b[39mraise\u001b[39;00m exception_class(message, screen, stacktrace, alert_text)  \u001b[39m# type: ignore[call-arg]  # mypy is not smart enough here\u001b[39;00m\n\u001b[1;32m--> 245\u001b[0m \u001b[39mraise\u001b[39;00m exception_class(message, screen, stacktrace)\n",
      "\u001b[1;31mNoSuchWindowException\u001b[0m: Message: no such window: target window already closed\nfrom unknown error: web view not found\n  (Session info: chrome=114.0.5735.134)\nStacktrace:\nBacktrace:\n\tGetHandleVerifier [0x007FA813+48355]\n\t(No symbol) [0x0078C4B1]\n\t(No symbol) [0x00695358]\n\t(No symbol) [0x0067D293]\n\t(No symbol) [0x006DE37B]\n\t(No symbol) [0x006EC473]\n\t(No symbol) [0x006DA536]\n\t(No symbol) [0x006B82DC]\n\t(No symbol) [0x006B93DD]\n\tGetHandleVerifier [0x00A5AABD+2539405]\n\tGetHandleVerifier [0x00A9A78F+2800735]\n\tGetHandleVerifier [0x00A9456C+2775612]\n\tGetHandleVerifier [0x008851E0+616112]\n\t(No symbol) [0x00795F8C]\n\t(No symbol) [0x00792328]\n\t(No symbol) [0x0079240B]\n\t(No symbol) [0x00784FF7]\n\tBaseThreadInitThunk [0x76E200C9+25]\n\tRtlGetAppContainerNamedObjectPath [0x76F67B4E+286]\n\tRtlGetAppContainerNamedObjectPath [0x76F67B1E+238]\n"
     ]
    }
   ],
   "source": [
    "# main_title = browser.find_element(By.CLASS_NAME, \"MjjYud\")\n",
    "# main_content = main_title.find_elements(By.CLASS_NAME, \"SoaBEf\")\n",
    "# links_selector = \"#rso > div > div > div:nth-child(1) > div > div > a\"\n",
    "\n",
    "# list = []\n",
    "# for i in main_content:\n",
    "#     list.append(i.text)\n",
    "#     print(i.text)"
   ]
  },
  {
   "cell_type": "code",
   "execution_count": 124,
   "metadata": {},
   "outputs": [],
   "source": [
    "url ='https://www.google.com/search?q=%EC%9E%90%EB%8F%99%ED%99%94&rlz=1C1YTUH_koKR1060KR1060&biw=981&bih=708&tbm=nws&ei=K3aSZJCAEsSjwAPQ0IDoAQ&ved=0ahUKEwjQwficvdP_AhXEEXAKHVAoAB0Q4dUDCA0&uact=5&oq=%EC%9E%90%EB%8F%99%ED%99%94&gs_lcp=Cgxnd3Mtd2l6LW5ld3MQAzIICAAQgAQQsQMyCwgAEIAEELEDEIMBMgsIABCABBCxAxCDATILCAAQgAQQsQMQgwEyCwgAEIAEELEDEIMBMgsIABCABBCxAxCDATILCAAQgAQQsQMQgwEyCwgAEIAEELEDEIMBMgsIABCABBCxAxCDATILCAAQgAQQsQMQgwE6BwgAEIoFEEM6BQgAEIAEOgQIABAeOgYIABAeEA86BAgAEANQmAFYg2JgiWJoBHAAeACAAWSIAbcGkgEDOS4xmAEAoAEBsAEAwAEB&sclient=gws-wiz-news'\n",
    "browser = webdriver.Chrome()\n",
    "browser.get(url)"
   ]
  },
  {
   "cell_type": "code",
   "execution_count": 125,
   "metadata": {},
   "outputs": [],
   "source": [
    "main_title = browser.find_element(By.CLASS_NAME, \"MjjYud\")\n",
    "main_content = main_title.find_elements(By.CLASS_NAME, \"SoaBEf\")\n",
    "links_selector = \"#rso > div > div > div:nth-child(1) > div > div > a\""
   ]
  },
  {
   "cell_type": "code",
   "execution_count": 131,
   "metadata": {},
   "outputs": [
    {
     "name": "stdout",
     "output_type": "stream",
     "text": [
      "지디넷코리아\n",
      "뉴로메카-원익로보틱스, 로봇 자동화 개발 맞손\n",
      "협동로봇 제조기업 뉴로메카가 19일 원익로보틱스와 판교 원익빌딩에서 로봇·자동화 개발 사업 추진을 위한 상호 협력 양해각서를 체결했다.\n",
      ".\n",
      "1일 전 \n",
      "    주소:https://zdnet.co.kr/view/?no=20230620104928\n",
      "경향신문\n",
      "현대글로비스 '스마트 물류' 강화…자동화 SW 업체 '알티올' 인수\n",
      "현대글로비스가 물류 자동화 소프트웨어(SW) 개발업체를 인수했다. 물류 자동화 시스템 구축·컨설...\n",
      ".\n",
      "1일 전 \n",
      "    주소:https://zdnet.co.kr/view/?no=20230620104928\n",
      "파이낸셜뉴스\n",
      "에스피시스템스, 66억 규모 로봇 자동화 시스템 공급계약\n",
      "[서울=뉴시스] 김경택 기자 = 에스피시스템스는 코넥과 66억원 규모의 산업용 로봇 자동화 시스템 공급계약을 체결했다고 21일 공시했다.\n",
      ".\n",
      "2시간 전 \n",
      "    주소:https://zdnet.co.kr/view/?no=20230620104928\n",
      "전자신문\n",
      "뉴로메카-원익로보틱스, '혁신 로봇·자동화 기술 고도화' 맞손\n",
      "뉴로메카는 원익로보틱스와 최근 판교 원익빌딩에서 '로봇·자동화 개발 사업 추진'을 위한 업무협약(MOU)을 맺었다고 21일 밝혔다.\n",
      ".\n",
      "35분 전 \n",
      "    주소:https://zdnet.co.kr/view/?no=20230620104928\n",
      "인더스트리뉴스\n",
      "[2023 AMWC] 자동화에서 자율화로… 디지털 트윈 통한 제조 최적화 구현\n",
      "[인더스트리뉴스 이건오 기자] 카이스트 장영재 교수가 6월 20일 서울 코엑스(COEX) 그랜드볼룸에서 개최된 '2023 자율생산 월드콩그레스(AMWC)'에...\n",
      ".\n",
      "21시간 전 \n",
      "    주소:https://zdnet.co.kr/view/?no=20230620104928\n",
      "일간투데이\n",
      "이노버스, 과기부 장관 표창… AIoT 기술 통한 재활용 시스템 자동화 공로\n",
      "[일간투데이 한지연 기자] 환경 엔지니어링 기업 주식회사 이노버스(대표 장진혁)가 지난 15일 개최된 2023년 '제36회 정보문화의 달 기념식'에서...\n",
      ".\n",
      "21시간 전 \n",
      "    주소:https://zdnet.co.kr/view/?no=20230620104928\n",
      "대한경제\n",
      "빅데이터·AI 시대 회계감사…전수 조사·자동화 등\n",
      "한국공인회계사회 회계현안 세미나 '빅데이터와 AI시대 회계감사' 4대 회계법인 활용 사례 및 계획 발표 한공회, 교육 커리큘럼 및 자격시험 평가법...\n",
      ".\n",
      "5시간 전 \n",
      "    주소:https://zdnet.co.kr/view/?no=20230620104928\n",
      "뉴스와이어\n",
      "FPT 소프트웨어 코리아 '코리아 노코드·로우코드 자동화 임팩트 2023' 참여\n",
      "코리아 노코드·로우코드 자동화 임팩트 2023', 21일 한국과학기술회관에서 개최. FPT 소프트웨어 코리아 '로우코드를 통한 회사 혁신의 가속화' 주제...\n",
      ".\n",
      "1일 전 \n",
      "    주소:https://zdnet.co.kr/view/?no=20230620104928\n",
      "로봇신문\n",
      "뉴로메카-원익로보틱스, 로봇 자동화 개발 사업 협력\n",
      "원익로보틱스와 뉴로메카는 로봇 및 자동화 개발 사업 추진을 위한 상호 협력에 대한 양해각서(MOU)를 지난 19일 체결했다고 밝혔다.\n",
      ".\n",
      "1일 전 \n",
      "    주소:https://zdnet.co.kr/view/?no=20230620104928\n",
      "한국경제\n",
      "에스피시스템스, 66억 규모 로봇 자동화 시스템 공급 계약[주목 e공시]\n",
      "는 코넥과 66억원 규모의 산업용 로봇 자동화 시스템 공급계약을 체결했다고 21일 공시했다. 계약 금액은 65억5000만원으로 지난해 연결 기준 매출액...\n",
      ".\n",
      "1시간 전 \n",
      "    주소:https://zdnet.co.kr/view/?no=20230620104928\n"
     ]
    }
   ],
   "source": [
    "links = browser.find_element(By.CSS_SELECTOR, links_selector)\n",
    "list = []\n",
    "for i in main_content:\n",
    "    list.append(i.text)\n",
    "    print(\"\"\"{} \n",
    "    주소:{}\"\"\".format(i.text, links.get_attribute(\"href\")))\n"
   ]
  },
  {
   "attachments": {},
   "cell_type": "markdown",
   "metadata": {},
   "source": [
    "## 구글 뉴스 크롤링"
   ]
  },
  {
   "cell_type": "code",
   "execution_count": 132,
   "metadata": {},
   "outputs": [],
   "source": [
    "from selenium import webdriver\n",
    "from selenium.webdriver.common.by import By"
   ]
  },
  {
   "cell_type": "code",
   "execution_count": 133,
   "metadata": {},
   "outputs": [],
   "source": [
    "browser = webdriver.Chrome()"
   ]
  },
  {
   "attachments": {},
   "cell_type": "markdown",
   "metadata": {},
   "source": []
  },
  {
   "cell_type": "code",
   "execution_count": 134,
   "metadata": {},
   "outputs": [],
   "source": [
    "url ='https://www.google.com/search?q=%EC%9E%90%EB%8F%99%ED%99%94&rlz=1C1YTUH_koKR1060KR1060&biw=981&bih=708&tbm=nws&ei=K3aSZJCAEsSjwAPQ0IDoAQ&ved=0ahUKEwjQwficvdP_AhXEEXAKHVAoAB0Q4dUDCA0&uact=5&oq=%EC%9E%90%EB%8F%99%ED%99%94&gs_lcp=Cgxnd3Mtd2l6LW5ld3MQAzIICAAQgAQQsQMyCwgAEIAEELEDEIMBMgsIABCABBCxAxCDATILCAAQgAQQsQMQgwEyCwgAEIAEELEDEIMBMgsIABCABBCxAxCDATILCAAQgAQQsQMQgwEyCwgAEIAEELEDEIMBMgsIABCABBCxAxCDATILCAAQgAQQsQMQgwE6BwgAEIoFEEM6BQgAEIAEOgQIABAeOgYIABAeEA86BAgAEANQmAFYg2JgiWJoBHAAeACAAWSIAbcGkgEDOS4xmAEAoAEBsAEAwAEB&sclient=gws-wiz-news'\n",
    "browser.get(url)"
   ]
  },
  {
   "cell_type": "code",
   "execution_count": 138,
   "metadata": {},
   "outputs": [
    {
     "data": {
      "text/plain": [
       "('뉴로메카-원익로보틱스, 로봇 자동화 개발 맞손',\n",
       " '협동로봇 제조기업 뉴로메카가 19일 원익로보틱스와 판교 원익빌딩에서 로봇·자동화 개발 사업 추진을 위한 상호 협력 양해각서를 체결했다.',\n",
       " 'https://zdnet.co.kr/view/?no=20230620104928')"
      ]
     },
     "execution_count": 138,
     "metadata": {},
     "output_type": "execute_result"
    }
   ],
   "source": [
    "#첫 번째 뉴스의 링크 제목\n",
    "title = browser.find_element(By.CLASS_NAME, 'n0jPhd').text\n",
    "content = browser.find_element(By.CLASS_NAME, \"GI74Re\").text\n",
    "link = browser.find_element(By.CLASS_NAME, \"WlydOe\").get_attribute(\"href\")"
   ]
  },
  {
   "cell_type": "code",
   "execution_count": 142,
   "metadata": {},
   "outputs": [
    {
     "name": "stdout",
     "output_type": "stream",
     "text": [
      "https://zdnet.co.kr/view/?no=20230620104928\n",
      "https://www.fnnews.com/news/202306211143537130\n",
      "https://www.etnews.com/20230621000154\n",
      "http://www.industrynews.co.kr/news/articleView.html?idxno=50138\n",
      "http://www.dtoday.co.kr/news/articleView.html?idxno=603552\n",
      "https://www.dnews.co.kr/uhtml/view.jsp?idxno=202306210004036640485\n",
      "https://www.newswire.co.kr/newsRead.php?no=969052\n",
      "http://www.irobotnews.com/news/articleView.html?idxno=31916\n",
      "https://www.hankyung.com/finance/article/2023062140606\n",
      "https://www.eroun.net/news/articleView.html?idxno=33511\n"
     ]
    }
   ],
   "source": [
    "# 1페이지의 전체 뉴스 데이터\n",
    "titles = browser.find_elements(By.CLASS_NAME, 'n0jPhd')\n",
    "contents = browser.find_elements(By.CLASS_NAME, 'GI74Re')\n",
    "links = browser.find_elements(By.CLASS_NAME, \"WlydOe\")"
   ]
  },
  {
   "cell_type": "code",
   "execution_count": 152,
   "metadata": {},
   "outputs": [],
   "source": [
    "containers = browser.find_elements(By.CLASS_NAME, \"SoaBEf\")\n",
    "\n",
    "\n",
    "title_list = []\n",
    "content_list = []\n",
    "link_list = []\n",
    "\n",
    "for elem in containers:\n",
    "    title = elem.find_element(By.CLASS_NAME, 'n0jPhd').text\n",
    "    content = elem.find_element(By.CLASS_NAME, \"GI74Re\").text\n",
    "    link = elem.find_element(By.CLASS_NAME, \"WlydOe\").get_attribute(\"href\")\n",
    "    \n",
    "    title_list.append(title)\n",
    "    content_list.append(content)\n",
    "    link_list.append(link)"
   ]
  },
  {
   "cell_type": "code",
   "execution_count": 153,
   "metadata": {},
   "outputs": [
    {
     "name": "stdout",
     "output_type": "stream",
     "text": [
      "Collecting pandasNote: you may need to restart the kernel to use updated packages.\n"
     ]
    },
    {
     "name": "stderr",
     "output_type": "stream",
     "text": [
      "\n",
      "[notice] A new release of pip available: 22.3.1 -> 23.1.2\n",
      "[notice] To update, run: python.exe -m pip install --upgrade pip\n"
     ]
    },
    {
     "name": "stdout",
     "output_type": "stream",
     "text": [
      "\n",
      "  Downloading pandas-2.0.2-cp311-cp311-win_amd64.whl (10.6 MB)\n",
      "     ---------------------------------------- 10.6/10.6 MB 2.4 MB/s eta 0:00:00\n",
      "Requirement already satisfied: python-dateutil>=2.8.2 in c:\\users\\sds76\\appdata\\roaming\\python\\python311\\site-packages (from pandas) (2.8.2)\n",
      "Collecting pytz>=2020.1\n",
      "  Using cached pytz-2023.3-py2.py3-none-any.whl (502 kB)\n",
      "Collecting tzdata>=2022.1\n",
      "  Downloading tzdata-2023.3-py2.py3-none-any.whl (341 kB)\n",
      "     -------------------------------------- 341.8/341.8 kB 1.4 MB/s eta 0:00:00\n",
      "Collecting numpy>=1.21.0\n",
      "  Downloading numpy-1.25.0-cp311-cp311-win_amd64.whl (15.0 MB)\n",
      "     ---------------------------------------- 15.0/15.0 MB 1.1 MB/s eta 0:00:00\n",
      "Requirement already satisfied: six>=1.5 in c:\\users\\sds76\\appdata\\roaming\\python\\python311\\site-packages (from python-dateutil>=2.8.2->pandas) (1.16.0)\n",
      "Installing collected packages: pytz, tzdata, numpy, pandas\n",
      "Successfully installed numpy-1.25.0 pandas-2.0.2 pytz-2023.3 tzdata-2023.3\n"
     ]
    }
   ],
   "source": [
    "%pip install pandas"
   ]
  },
  {
   "cell_type": "code",
   "execution_count": 154,
   "metadata": {},
   "outputs": [],
   "source": [
    "import pandas as pd"
   ]
  },
  {
   "cell_type": "code",
   "execution_count": 160,
   "metadata": {},
   "outputs": [
    {
     "data": {
      "text/html": [
       "<div>\n",
       "<style scoped>\n",
       "    .dataframe tbody tr th:only-of-type {\n",
       "        vertical-align: middle;\n",
       "    }\n",
       "\n",
       "    .dataframe tbody tr th {\n",
       "        vertical-align: top;\n",
       "    }\n",
       "\n",
       "    .dataframe thead th {\n",
       "        text-align: right;\n",
       "    }\n",
       "</style>\n",
       "<table border=\"1\" class=\"dataframe\">\n",
       "  <thead>\n",
       "    <tr style=\"text-align: right;\">\n",
       "      <th></th>\n",
       "      <th>제목</th>\n",
       "      <th>내용</th>\n",
       "      <th>링크</th>\n",
       "    </tr>\n",
       "  </thead>\n",
       "  <tbody>\n",
       "    <tr>\n",
       "      <th>0</th>\n",
       "      <td>뉴로메카-원익로보틱스, 로봇 자동화 개발 맞손</td>\n",
       "      <td>협동로봇 제조기업 뉴로메카가 19일 원익로보틱스와 판교 원익빌딩에서 로봇·자동화 개...</td>\n",
       "      <td>https://zdnet.co.kr/view/?no=20230620104928</td>\n",
       "    </tr>\n",
       "    <tr>\n",
       "      <th>1</th>\n",
       "      <td>에스피시스템스, 66억 규모 로봇 자동화 시스템 공급계약</td>\n",
       "      <td>[서울=뉴시스] 김경택 기자 = 에스피시스템스는 코넥과 66억원 규모의 산업용 로봇...</td>\n",
       "      <td>https://www.fnnews.com/news/202306211143537130</td>\n",
       "    </tr>\n",
       "    <tr>\n",
       "      <th>2</th>\n",
       "      <td>뉴로메카-원익로보틱스, '혁신 로봇·자동화 기술 고도화' 맞손</td>\n",
       "      <td>뉴로메카는 원익로보틱스와 최근 판교 원익빌딩에서 '로봇·자동화 개발 사업 추진'을 ...</td>\n",
       "      <td>https://www.etnews.com/20230621000154</td>\n",
       "    </tr>\n",
       "    <tr>\n",
       "      <th>3</th>\n",
       "      <td>[2023 AMWC] 자동화에서 자율화로… 디지털 트윈 통한 제조 최적화 구현</td>\n",
       "      <td>[인더스트리뉴스 이건오 기자] 카이스트 장영재 교수가 6월 20일 서울 코엑스(CO...</td>\n",
       "      <td>http://www.industrynews.co.kr/news/articleView...</td>\n",
       "    </tr>\n",
       "    <tr>\n",
       "      <th>4</th>\n",
       "      <td>이노버스, 과기부 장관 표창… AIoT 기술 통한 재활용 시스템 자동화 공로</td>\n",
       "      <td>[일간투데이 한지연 기자] 환경 엔지니어링 기업 주식회사 이노버스(대표 장진혁)가 ...</td>\n",
       "      <td>http://www.dtoday.co.kr/news/articleView.html?...</td>\n",
       "    </tr>\n",
       "    <tr>\n",
       "      <th>5</th>\n",
       "      <td>빅데이터·AI 시대 회계감사…전수 조사·자동화 등</td>\n",
       "      <td>한국공인회계사회 회계현안 세미나 '빅데이터와 AI시대 회계감사' 4대 회계법인 활용...</td>\n",
       "      <td>https://www.dnews.co.kr/uhtml/view.jsp?idxno=2...</td>\n",
       "    </tr>\n",
       "    <tr>\n",
       "      <th>6</th>\n",
       "      <td>FPT 소프트웨어 코리아 '코리아 노코드·로우코드 자동화 임팩트 2023' 참여</td>\n",
       "      <td>코리아 노코드·로우코드 자동화 임팩트 2023', 21일 한국과학기술회관에서 개최....</td>\n",
       "      <td>https://www.newswire.co.kr/newsRead.php?no=969052</td>\n",
       "    </tr>\n",
       "    <tr>\n",
       "      <th>7</th>\n",
       "      <td>뉴로메카-원익로보틱스, 로봇 자동화 개발 사업 협력</td>\n",
       "      <td>원익로보틱스와 뉴로메카는 로봇 및 자동화 개발 사업 추진을 위한 상호 협력에 대한 ...</td>\n",
       "      <td>http://www.irobotnews.com/news/articleView.htm...</td>\n",
       "    </tr>\n",
       "    <tr>\n",
       "      <th>8</th>\n",
       "      <td>에스피시스템스, 66억 규모 로봇 자동화 시스템 공급 계약[주목 e공시]</td>\n",
       "      <td>는 코넥과 66억원 규모의 산업용 로봇 자동화 시스템 공급계약을 체결했다고 21일 ...</td>\n",
       "      <td>https://www.hankyung.com/finance/article/20230...</td>\n",
       "    </tr>\n",
       "    <tr>\n",
       "      <th>9</th>\n",
       "      <td>파씨온택, 자동화 기술 솔루션 공급업체로 '우뚝'</td>\n",
       "      <td>업력 3년이 채 되지 않은 자동화기기 부품ㆍ기술 제공기업 ㈜파씨온택이 자동화ㆍ전력기...</td>\n",
       "      <td>https://www.eroun.net/news/articleView.html?id...</td>\n",
       "    </tr>\n",
       "  </tbody>\n",
       "</table>\n",
       "</div>"
      ],
      "text/plain": [
       "                                             제목  \\\n",
       "0                     뉴로메카-원익로보틱스, 로봇 자동화 개발 맞손   \n",
       "1               에스피시스템스, 66억 규모 로봇 자동화 시스템 공급계약   \n",
       "2            뉴로메카-원익로보틱스, '혁신 로봇·자동화 기술 고도화' 맞손   \n",
       "3   [2023 AMWC] 자동화에서 자율화로… 디지털 트윈 통한 제조 최적화 구현   \n",
       "4    이노버스, 과기부 장관 표창… AIoT 기술 통한 재활용 시스템 자동화 공로   \n",
       "5                   빅데이터·AI 시대 회계감사…전수 조사·자동화 등   \n",
       "6  FPT 소프트웨어 코리아 '코리아 노코드·로우코드 자동화 임팩트 2023' 참여   \n",
       "7                  뉴로메카-원익로보틱스, 로봇 자동화 개발 사업 협력   \n",
       "8      에스피시스템스, 66억 규모 로봇 자동화 시스템 공급 계약[주목 e공시]   \n",
       "9                   파씨온택, 자동화 기술 솔루션 공급업체로 '우뚝'   \n",
       "\n",
       "                                                  내용  \\\n",
       "0  협동로봇 제조기업 뉴로메카가 19일 원익로보틱스와 판교 원익빌딩에서 로봇·자동화 개...   \n",
       "1  [서울=뉴시스] 김경택 기자 = 에스피시스템스는 코넥과 66억원 규모의 산업용 로봇...   \n",
       "2  뉴로메카는 원익로보틱스와 최근 판교 원익빌딩에서 '로봇·자동화 개발 사업 추진'을 ...   \n",
       "3  [인더스트리뉴스 이건오 기자] 카이스트 장영재 교수가 6월 20일 서울 코엑스(CO...   \n",
       "4  [일간투데이 한지연 기자] 환경 엔지니어링 기업 주식회사 이노버스(대표 장진혁)가 ...   \n",
       "5  한국공인회계사회 회계현안 세미나 '빅데이터와 AI시대 회계감사' 4대 회계법인 활용...   \n",
       "6  코리아 노코드·로우코드 자동화 임팩트 2023', 21일 한국과학기술회관에서 개최....   \n",
       "7  원익로보틱스와 뉴로메카는 로봇 및 자동화 개발 사업 추진을 위한 상호 협력에 대한 ...   \n",
       "8  는 코넥과 66억원 규모의 산업용 로봇 자동화 시스템 공급계약을 체결했다고 21일 ...   \n",
       "9  업력 3년이 채 되지 않은 자동화기기 부품ㆍ기술 제공기업 ㈜파씨온택이 자동화ㆍ전력기...   \n",
       "\n",
       "                                                  링크  \n",
       "0        https://zdnet.co.kr/view/?no=20230620104928  \n",
       "1     https://www.fnnews.com/news/202306211143537130  \n",
       "2              https://www.etnews.com/20230621000154  \n",
       "3  http://www.industrynews.co.kr/news/articleView...  \n",
       "4  http://www.dtoday.co.kr/news/articleView.html?...  \n",
       "5  https://www.dnews.co.kr/uhtml/view.jsp?idxno=2...  \n",
       "6  https://www.newswire.co.kr/newsRead.php?no=969052  \n",
       "7  http://www.irobotnews.com/news/articleView.htm...  \n",
       "8  https://www.hankyung.com/finance/article/20230...  \n",
       "9  https://www.eroun.net/news/articleView.html?id...  "
      ]
     },
     "execution_count": 160,
     "metadata": {},
     "output_type": "execute_result"
    }
   ],
   "source": [
    "data = {\n",
    "    \"제목\": title_list,\n",
    "    \"내용\": content_list,\n",
    "    \"링크\": link_list\n",
    "}\n",
    "\n",
    "df = pd.DataFrame(data)\n",
    "df\n",
    "# df.to_csv(\"구글 뉴스 크롤링.csv\")\n"
   ]
  },
  {
   "cell_type": "code",
   "execution_count": 163,
   "metadata": {},
   "outputs": [
    {
     "name": "stdout",
     "output_type": "stream",
     "text": [
      "https://www.google.com/search?q=%EC%9E%90%EB%8F%99%ED%99%94&rlz=1C1YTUH_koKR1060KR1060&biw=981&bih=708&tbm=nws&ei=5YSSZNfcDYqo2roPz8SZ4AU&start=10&sa=N&ved=2ahUKEwiX48qiy9P_AhUKlFYBHU9iBlwQ8tMDegQIAxAE\n",
      "https://www.google.com/search?q=%EC%9E%90%EB%8F%99%ED%99%94&rlz=1C1YTUH_koKR1060KR1060&biw=981&bih=708&tbm=nws&ei=5YSSZNfcDYqo2roPz8SZ4AU&start=20&sa=N&ved=2ahUKEwiX48qiy9P_AhUKlFYBHU9iBlwQ8tMDegQIAxAG\n",
      "https://www.google.com/search?q=%EC%9E%90%EB%8F%99%ED%99%94&rlz=1C1YTUH_koKR1060KR1060&biw=981&bih=708&tbm=nws&ei=5YSSZNfcDYqo2roPz8SZ4AU&start=30&sa=N&ved=2ahUKEwiX48qiy9P_AhUKlFYBHU9iBlwQ8tMDegQIAxAI\n",
      "https://www.google.com/search?q=%EC%9E%90%EB%8F%99%ED%99%94&rlz=1C1YTUH_koKR1060KR1060&biw=981&bih=708&tbm=nws&ei=5YSSZNfcDYqo2roPz8SZ4AU&start=40&sa=N&ved=2ahUKEwiX48qiy9P_AhUKlFYBHU9iBlwQ8tMDegQIAxAK\n",
      "https://www.google.com/search?q=%EC%9E%90%EB%8F%99%ED%99%94&rlz=1C1YTUH_koKR1060KR1060&biw=981&bih=708&tbm=nws&ei=5YSSZNfcDYqo2roPz8SZ4AU&start=50&sa=N&ved=2ahUKEwiX48qiy9P_AhUKlFYBHU9iBlwQ8tMDegQIAxAM\n",
      "https://www.google.com/search?q=%EC%9E%90%EB%8F%99%ED%99%94&rlz=1C1YTUH_koKR1060KR1060&biw=981&bih=708&tbm=nws&ei=5YSSZNfcDYqo2roPz8SZ4AU&start=60&sa=N&ved=2ahUKEwiX48qiy9P_AhUKlFYBHU9iBlwQ8tMDegQIAxAO\n",
      "https://www.google.com/search?q=%EC%9E%90%EB%8F%99%ED%99%94&rlz=1C1YTUH_koKR1060KR1060&biw=981&bih=708&tbm=nws&ei=5YSSZNfcDYqo2roPz8SZ4AU&start=70&sa=N&ved=2ahUKEwiX48qiy9P_AhUKlFYBHU9iBlwQ8tMDegQIAxAQ\n",
      "https://www.google.com/search?q=%EC%9E%90%EB%8F%99%ED%99%94&rlz=1C1YTUH_koKR1060KR1060&biw=981&bih=708&tbm=nws&ei=5YSSZNfcDYqo2roPz8SZ4AU&start=80&sa=N&ved=2ahUKEwiX48qiy9P_AhUKlFYBHU9iBlwQ8tMDegQIAxAS\n",
      "https://www.google.com/search?q=%EC%9E%90%EB%8F%99%ED%99%94&rlz=1C1YTUH_koKR1060KR1060&biw=981&bih=708&tbm=nws&ei=5YSSZNfcDYqo2roPz8SZ4AU&start=90&sa=N&ved=2ahUKEwiX48qiy9P_AhUKlFYBHU9iBlwQ8tMDegQIAxAU\n"
     ]
    }
   ],
   "source": [
    "page_num = browser.find_elements(By.CLASS_NAME, \"fl\")\n",
    "wantNum = int(input(\"원하는 페이지\"))\n",
    "\n",
    "for i in page_num:\n",
    "    print(i.get_attribute(\"href\"))"
   ]
  },
  {
   "cell_type": "code",
   "execution_count": 14,
   "metadata": {},
   "outputs": [],
   "source": [
    "from selenium import webdriver\n",
    "from selenium.webdriver.common.by import By\n",
    "import pandas as pd\n",
    "\n",
    "url = \"https://www.dbpia.co.kr/search/topSearch?searchOption=all&query=%ED%8C%8C%EC%9D%B4%EC%8D%AC\"\n",
    "browser = webdriver.Chrome()\n",
    "browser.get(url)"
   ]
  },
  {
   "cell_type": "code",
   "execution_count": 23,
   "metadata": {},
   "outputs": [],
   "source": [
    "wrapper = browser.find_element(By.ID, \"thesisDetail__abstract\")\n",
    "components = wrapper.find_elements(By.CLASS_NAME, \"abstractTxt\")\n",
    "link_component = []\n",
    "\n",
    "for component in components:\n",
    "    link = component.find_element(By.TAG_NAME, \"a\").get_attribute(\"href\")\n",
    "    link_component.append(link)\n",
    "\n",
    "for linkIn in range(len(link_component)):\n",
    "    browser.get(link_component[linkIn])\n",
    "    # content = browser.find_element(By.CLASS_NAME, \"abstractTxt\").text\n",
    "    # print(content)\n",
    "    # print()\n"
   ]
  },
  {
   "cell_type": "code",
   "execution_count": null,
   "metadata": {},
   "outputs": [],
   "source": []
  }
 ],
 "metadata": {
  "kernelspec": {
   "display_name": "Python 3",
   "language": "python",
   "name": "python3"
  },
  "language_info": {
   "codemirror_mode": {
    "name": "ipython",
    "version": 3
   },
   "file_extension": ".py",
   "mimetype": "text/x-python",
   "name": "python",
   "nbconvert_exporter": "python",
   "pygments_lexer": "ipython3",
   "version": "3.11.3"
  },
  "orig_nbformat": 4
 },
 "nbformat": 4,
 "nbformat_minor": 2
}
