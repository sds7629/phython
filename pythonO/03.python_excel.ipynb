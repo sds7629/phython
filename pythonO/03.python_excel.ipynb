{
 "cells": [
  {
   "attachments": {},
   "cell_type": "markdown",
   "metadata": {},
   "source": [
    "## 엑셀 자동화\n",
    "    -opnpyxl 라이브러리"
   ]
  },
  {
   "cell_type": "code",
   "execution_count": 3,
   "metadata": {},
   "outputs": [
    {
     "name": "stdout",
     "output_type": "stream",
     "text": [
      "Requirement already satisfied: openpyxl in c:\\users\\sds76\\appdata\\local\\programs\\python\\python311\\lib\\site-packages (3.1.2)Note: you may need to restart the kernel to use updated packages.\n",
      "\n",
      "Requirement already satisfied: et-xmlfile in c:\\users\\sds76\\appdata\\local\\programs\\python\\python311\\lib\\site-packages (from openpyxl) (1.1.0)\n"
     ]
    },
    {
     "name": "stderr",
     "output_type": "stream",
     "text": [
      "UsageError: Line magic function `%python.exe` not found.\n",
      "\n",
      "[notice] A new release of pip available: 22.3.1 -> 23.1.2\n",
      "[notice] To update, run: python.exe -m pip install --upgrade pip\n"
     ]
    }
   ],
   "source": [
    "%pip install openpyxl\n",
    "%python.exe -m pip install --upgrade zip"
   ]
  },
  {
   "cell_type": "code",
   "execution_count": 2,
   "metadata": {},
   "outputs": [],
   "source": [
    "import openpyxl"
   ]
  },
  {
   "cell_type": "code",
   "execution_count": 9,
   "metadata": {},
   "outputs": [],
   "source": [
    "wb = openpyxl.Workbook() #워크북 생성\n",
    "ws = wb.active #워크시트 활성화\n",
    "\n",
    "ws.title = \"Info\"\n",
    "\n",
    "ws.append([1,2,3,4,5])\n",
    "ws.append([1,2,3,4,5])\n",
    "ws.append([1,2,3,4,5])\n",
    "ws.append([1,2,3,4,5])\n",
    "ws.append([1,2,3,4,5])\n",
    "\n",
    "ws.merge_cells(\"A1:D1\")\n",
    "\n",
    "ws.insert_rows(3)\n",
    "ws.insert_rows(3)\n",
    "ws.insert_rows(3)\n",
    "\n",
    "wb.save(\"text.xlsx\")\n"
   ]
  },
  {
   "cell_type": "code",
   "execution_count": 18,
   "metadata": {},
   "outputs": [],
   "source": [
    "# 엑셀 파일 로드\n",
    "\n",
    "workbook = openpyxl.load_workbook(\"text.xlsx\")\n",
    "worksheet = workbook[\"Info\"]\n",
    "\n",
    "#좌표로 값을 가져오는 방법\n",
    "worksheet.cell(5,1).value\n",
    "\n",
    "#고유값을 통해서 데이터를 가져오는 방법\n",
    "worksheet[\"B2\"].value\n",
    "\n",
    "#해당 시트의 최대 행 번호\n",
    "worksheet.max_row\n",
    "\n",
    "#해당 시트의 최대 열 번호\n",
    "worksheet.max_column\n",
    "\n",
    "#값 변경\n",
    "worksheet[\"D7\"] = \"비고\"\n",
    "workbook.save(\"test_final.xlsx\")"
   ]
  },
  {
   "cell_type": "code",
   "execution_count": 39,
   "metadata": {},
   "outputs": [
    {
     "name": "stdout",
     "output_type": "stream",
     "text": [
      "Requirement already satisfied: pytz in c:\\users\\sds76\\appdata\\local\\programs\\python\\python311\\lib\\site-packages (2023.3)\n",
      "Note: you may need to restart the kernel to use updated packages.\n"
     ]
    },
    {
     "name": "stderr",
     "output_type": "stream",
     "text": [
      "\n",
      "[notice] A new release of pip available: 22.3.1 -> 23.1.2\n",
      "[notice] To update, run: python.exe -m pip install --upgrade pip\n"
     ]
    }
   ],
   "source": [
    "%pip install pytz"
   ]
  },
  {
   "cell_type": "code",
   "execution_count": 43,
   "metadata": {},
   "outputs": [],
   "source": [
    "from datetime import datetime\n",
    "\n",
    "workbook = openpyxl.load_workbook(\"zoom.xlsx\")\n",
    "worksheet = workbook[\"Sheet\"]\n",
    "\n",
    "max = worksheet.max_row\n",
    "\n",
    "worksheet[\"E1\"] = \"출결\"\n",
    "\n",
    "for i in range(2, max+1):\n",
    "     if int(worksheet[\"C{}\".format(i)].value) >= 45:\n",
    "          worksheet[\"E{}\".format(i)] = \"출석\"\n",
    "     elif int(worksheet[\"C{}\".format(i)].value) < 45 and int(worksheet[\"C{}\".format(i)].value) >= 15:\n",
    "          worksheet[\"E{}\".format(i)] = \"지각\"\n",
    "     else:\n",
    "          worksheet[\"E{}\".format(i)] = \"결석\"\n",
    "     if worksheet[\"C{}\".format(i)].value == \"None\":\n",
    "          continue\n",
    "\n",
    "date = datetime.now().date()\n",
    "\n",
    "\n",
    "workbook.save(f\"{date}.xlsx\")"
   ]
  },
  {
   "cell_type": "code",
   "execution_count": null,
   "metadata": {},
   "outputs": [],
   "source": []
  }
 ],
 "metadata": {
  "kernelspec": {
   "display_name": "Python 3",
   "language": "python",
   "name": "python3"
  },
  "language_info": {
   "codemirror_mode": {
    "name": "ipython",
    "version": 3
   },
   "file_extension": ".py",
   "mimetype": "text/x-python",
   "name": "python",
   "nbconvert_exporter": "python",
   "pygments_lexer": "ipython3",
   "version": "3.11.3"
  },
  "orig_nbformat": 4
 },
 "nbformat": 4,
 "nbformat_minor": 2
}
