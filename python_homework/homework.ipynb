{
 "cells": [
  {
   "attachments": {},
   "cell_type": "markdown",
   "metadata": {},
   "source": [
    "## 반복문 연습"
   ]
  },
  {
   "cell_type": "code",
   "execution_count": 2,
   "metadata": {},
   "outputs": [
    {
     "name": "stdout",
     "output_type": "stream",
     "text": [
      "2 4 6 8 10 "
     ]
    }
   ],
   "source": [
    "for num in range(1, 11):\n",
    "    if num%2 == 0:\n",
    "        print(num, end = ' ')"
   ]
  },
  {
   "cell_type": "code",
   "execution_count": 3,
   "metadata": {},
   "outputs": [
    {
     "name": "stdout",
     "output_type": "stream",
     "text": [
      "0 입력?\n"
     ]
    }
   ],
   "source": [
    "num = int(input(\"값을 입력해주세요.\"))\n",
    "\n",
    "if num > 0:\n",
    "    print(\"양수\")\n",
    "elif num < 0:\n",
    "    print(\"음수\")\n",
    "else:\n",
    "    print(\"0 입력?\")"
   ]
  },
  {
   "cell_type": "code",
   "execution_count": 4,
   "metadata": {},
   "outputs": [
    {
     "name": "stdout",
     "output_type": "stream",
     "text": [
      "3 * 1 = 3\n",
      "3 * 2 = 6\n",
      "3 * 3 = 9\n",
      "3 * 4 = 12\n",
      "3 * 5 = 15\n",
      "3 * 6 = 18\n",
      "3 * 7 = 21\n",
      "3 * 8 = 24\n",
      "3 * 9 = 27\n"
     ]
    }
   ],
   "source": [
    "num = int(input(\"몇단 하실래요?\"))\n",
    "\n",
    "for i in range(1,10):\n",
    "    print(num, \"*\", i, \"=\", num*i)"
   ]
  },
  {
   "cell_type": "code",
   "execution_count": 6,
   "metadata": {},
   "outputs": [
    {
     "name": "stdout",
     "output_type": "stream",
     "text": [
      "315\n"
     ]
    }
   ],
   "source": [
    "ranSum = 0\n",
    "for ran in range(1, 101):\n",
    "    if ran%15 == 0:\n",
    "        ranSum += ran\n",
    "print(ranSum)"
   ]
  },
  {
   "cell_type": "code",
   "execution_count": 6,
   "metadata": {},
   "outputs": [
    {
     "name": "stdout",
     "output_type": "stream",
     "text": [
      "최댓값:  30 최솟값:  10\n"
     ]
    }
   ],
   "source": [
    "a = list(map(int, input(\"정수를 입력해주세요\").split()))\n",
    "print(\"최댓값: \", max(a), \"최솟값: \", min(a))\n",
    "\n",
    "# user_input = int(input())\n",
    "\n",
    "# user_input_list = []\n",
    "# for i in range(user_input):\n",
    "#     number = int(input())\n",
    "#     user_input_list.append(number)\n",
    "# print(user_input_list)\n",
    "\n",
    "# min_value = user_input_list[0]\n",
    "# max_value = user_input_list[0]\n",
    "\n",
    "# for i in user_input_list:\n",
    "#     if i  <min_value:\n",
    "#         min_value = i\n",
    "#     if i > max_value:\n",
    "#         max_value = i\n",
    "\n",
    "# print(\"최솟값: {}\".format(min_value))\n",
    "# print(\"최대값: {}\".format(max_value))"
   ]
  },
  {
   "cell_type": "code",
   "execution_count": 7,
   "metadata": {},
   "outputs": [
    {
     "name": "stdout",
     "output_type": "stream",
     "text": [
      "*****\n",
      "****\n",
      "***\n",
      "**\n",
      "*\n"
     ]
    }
   ],
   "source": [
    "a = 5\n",
    "for i in range(5):\n",
    "    for j in range(a):\n",
    "        print(\"*\", end = '')\n",
    "    a -= 1\n",
    "    print()\n",
    "\n",
    "\n",
    "# range(6, 1, -1) 6~1까지 -1씩 줄어드는 범위\n",
    "\n",
    "# for i in range(5, 0 , -1):\n",
    "#     print(\"*\" * i)"
   ]
  },
  {
   "cell_type": "code",
   "execution_count": 180,
   "metadata": {},
   "outputs": [
    {
     "name": "stdout",
     "output_type": "stream",
     "text": [
      "                  *\n",
      "                 ***\n",
      "                *****\n",
      "               *******\n",
      "              *********\n",
      "             ***********\n",
      "            *************\n",
      "           ***************\n",
      "          *****************\n",
      "         *******************\n"
     ]
    }
   ],
   "source": [
    "a = int(input())\n",
    "for i in range(1, a+1):\n",
    "    for j in range(1, 2*a-i):\n",
    "        print(\" \",end = \"\")\n",
    "    for j in range(1, 2*i):\n",
    "        print(\"*\", end = \"\")\n",
    "    print()\n",
    "\n",
    "\n",
    "# for i in range(1, 5):\n",
    "#     print(\" \" * (4-i)\"*\" * (2*i -1))"
   ]
  },
  {
   "cell_type": "code",
   "execution_count": 181,
   "metadata": {},
   "outputs": [
    {
     "name": "stdout",
     "output_type": "stream",
     "text": [
      " *******************\n",
      "  *****************\n",
      "   ***************\n",
      "    *************\n",
      "     ***********\n",
      "      *********\n",
      "       *******\n",
      "        *****\n",
      "         ***\n",
      "          *\n"
     ]
    }
   ],
   "source": [
    "a = int(input())\n",
    "for i in range(1, a+1):\n",
    "    for j in range(1, i+1):\n",
    "        print(\" \",end = \"\")\n",
    "    for j in range(1, 2*a-2*i+2):\n",
    "        print(\"*\", end = \"\")\n",
    "    print()\n",
    "\n",
    "\n",
    "# for i in range(3):\n",
    "#     print(\" \"*i + \"*\" * (5-2*i))"
   ]
  },
  {
   "cell_type": "code",
   "execution_count": 17,
   "metadata": {},
   "outputs": [
    {
     "name": "stdout",
     "output_type": "stream",
     "text": [
      " ***************************************************************************************************\n",
      "  *************************************************************************************************\n",
      "   ***********************************************************************************************\n",
      "    *********************************************************************************************\n",
      "     *******************************************************************************************\n",
      "      *****************************************************************************************\n",
      "       ***************************************************************************************\n",
      "        *************************************************************************************\n",
      "         ***********************************************************************************\n",
      "          *********************************************************************************\n",
      "           *******************************************************************************\n",
      "            *****************************************************************************\n",
      "             ***************************************************************************\n",
      "              *************************************************************************\n",
      "               ***********************************************************************\n",
      "                *********************************************************************\n",
      "                 *******************************************************************\n",
      "                  *****************************************************************\n",
      "                   ***************************************************************\n",
      "                    *************************************************************\n",
      "                     ***********************************************************\n",
      "                      *********************************************************\n",
      "                       *******************************************************\n",
      "                        *****************************************************\n",
      "                         ***************************************************\n",
      "                          *************************************************\n",
      "                           ***********************************************\n",
      "                            *********************************************\n",
      "                             *******************************************\n",
      "                              *****************************************\n",
      "                               ***************************************\n",
      "                                *************************************\n",
      "                                 ***********************************\n",
      "                                  *********************************\n",
      "                                   *******************************\n",
      "                                    *****************************\n",
      "                                     ***************************\n",
      "                                      *************************\n",
      "                                       ***********************\n",
      "                                        *********************\n",
      "                                         *******************\n",
      "                                          *****************\n",
      "                                           ***************\n",
      "                                            *************\n",
      "                                             ***********\n",
      "                                              *********\n",
      "                                               *******\n",
      "                                                *****\n",
      "                                                 ***\n",
      "                                                  *\n",
      "                                                 ***\n",
      "                                                *****\n",
      "                                               *******\n",
      "                                              *********\n",
      "                                             ***********\n",
      "                                            *************\n",
      "                                           ***************\n",
      "                                          *****************\n",
      "                                         *******************\n",
      "                                        *********************\n",
      "                                       ***********************\n",
      "                                      *************************\n",
      "                                     ***************************\n",
      "                                    *****************************\n",
      "                                   *******************************\n",
      "                                  *********************************\n",
      "                                 ***********************************\n",
      "                                *************************************\n",
      "                               ***************************************\n",
      "                              *****************************************\n",
      "                             *******************************************\n",
      "                            *********************************************\n",
      "                           ***********************************************\n",
      "                          *************************************************\n",
      "                         ***************************************************\n",
      "                        *****************************************************\n",
      "                       *******************************************************\n",
      "                      *********************************************************\n",
      "                     ***********************************************************\n",
      "                    *************************************************************\n",
      "                   ***************************************************************\n",
      "                  *****************************************************************\n",
      "                 *******************************************************************\n",
      "                *********************************************************************\n",
      "               ***********************************************************************\n",
      "              *************************************************************************\n",
      "             ***************************************************************************\n",
      "            *****************************************************************************\n",
      "           *******************************************************************************\n",
      "          *********************************************************************************\n",
      "         ***********************************************************************************\n",
      "        *************************************************************************************\n",
      "       ***************************************************************************************\n",
      "      *****************************************************************************************\n",
      "     *******************************************************************************************\n",
      "    *********************************************************************************************\n",
      "   ***********************************************************************************************\n",
      "  *************************************************************************************************\n",
      " ***************************************************************************************************\n"
     ]
    }
   ],
   "source": [
    "a = int(input())\n",
    "\n",
    "for i in range(1, a+1):\n",
    "    for j in range(1, i+1):\n",
    "        print(\" \",end = \"\")\n",
    "    for j in range(1, 2*a-2*i+2):\n",
    "        print(\"*\", end = \"\")\n",
    "    print()\n",
    "for i in range(1, a+1):\n",
    "    if i == 1:\n",
    "         continue\n",
    "    for j in range(1, a-i+2):\n",
    "        print(\" \",end = \"\")\n",
    "    for j in range(1, 2*i):\n",
    "        print(\"*\", end = \"\")\n",
    "    print()\n",
    "\n",
    "\n",
    "# for i in range(1, 6):\n",
    "#     print(\" \" *(i-1) + \"*\" * (11 - 2*i))\n",
    "# for i in range(2,6):\n",
    "#     print(\" \" * (5-i) + \"*\" * (2*i -1))"
   ]
  },
  {
   "cell_type": "code",
   "execution_count": 19,
   "metadata": {},
   "outputs": [],
   "source": [
    "from selenium.webdriver.common.by import By\n",
    "from selenium import webdriver\n",
    "\n",
    "url = \"https://news.naver.com/main/main.naver?mode=LSD&mid=shm&sid1=105\"\n",
    "browser = webdriver.Chrome()\n",
    "browser.get(url)"
   ]
  },
  {
   "cell_type": "code",
   "execution_count": 47,
   "metadata": {},
   "outputs": [],
   "source": [
    "import pandas as pd\n",
    "containers = browser.find_elements(By.CLASS_NAME, \"sh_item\")\n",
    "\n",
    "title_list =[]\n",
    "content_list = []\n",
    "link_list = []\n",
    "name_list = []\n",
    "\n",
    "for i in containers:\n",
    "    title = i.find_element(By.CLASS_NAME, \"sh_text_headline\").get_attribute(\"textContent\")\n",
    "    content = i.find_element(By.CLASS_NAME, \"sh_text_lede\").get_attribute(\"textContent\")\n",
    "    link =  i.find_element(By.CLASS_NAME, \"sh_text_headline\").get_attribute(\"href\")\n",
    "    name = i.find_element(By.CLASS_NAME, \"sh_text_press\").get_attribute(\"textContent\")\n",
    "    \n",
    "\n",
    "    title_list.append(title)\n",
    "    content_list.append(content)\n",
    "    link_list.append(link)\n",
    "    name_list.append(name)\n",
    "    \n",
    "data = {\n",
    "    \"제목\": title_list,\n",
    "    \"내용\": content_list,\n",
    "    \"링크\": link_list,\n",
    "    \"언론사\": name_list\n",
    "}\n",
    "\n",
    "df = pd.DataFrame(data)\n",
    "df.to_csv(\"네이버 뉴스 크롤링.csv\")"
   ]
  },
  {
   "cell_type": "code",
   "execution_count": 50,
   "metadata": {},
   "outputs": [],
   "source": [
    "url = \"https://www.yes24.com/24/category/bestseller?CategoryNumber=001&sumgb=06\"\n",
    "browser = webdriver.Chrome()\n",
    "browser.get(url)"
   ]
  },
  {
   "cell_type": "code",
   "execution_count": 90,
   "metadata": {},
   "outputs": [
    {
     "data": {
      "text/html": [
       "<div>\n",
       "<style scoped>\n",
       "    .dataframe tbody tr th:only-of-type {\n",
       "        vertical-align: middle;\n",
       "    }\n",
       "\n",
       "    .dataframe tbody tr th {\n",
       "        vertical-align: top;\n",
       "    }\n",
       "\n",
       "    .dataframe thead th {\n",
       "        text-align: right;\n",
       "    }\n",
       "</style>\n",
       "<table border=\"1\" class=\"dataframe\">\n",
       "  <thead>\n",
       "    <tr style=\"text-align: right;\">\n",
       "      <th></th>\n",
       "      <th>제목</th>\n",
       "      <th>저자, 출간일</th>\n",
       "    </tr>\n",
       "  </thead>\n",
       "  <tbody>\n",
       "    <tr>\n",
       "      <th>0</th>\n",
       "      <td>비욘드 더 스토리 BEYOND THE STORY</td>\n",
       "      <td>[강명석,방탄소년단 저 ,  2023년 07월]</td>\n",
       "    </tr>\n",
       "    <tr>\n",
       "      <th>1</th>\n",
       "      <td>세이노의 가르침</td>\n",
       "      <td>[세이노(SayNo) 저 ,  2023년 03월]</td>\n",
       "    </tr>\n",
       "    <tr>\n",
       "      <th>2</th>\n",
       "      <td>문과 남자의 과학 공부</td>\n",
       "      <td>[유시민 저 ,  2023년 06월]</td>\n",
       "    </tr>\n",
       "    <tr>\n",
       "      <th>3</th>\n",
       "      <td>역행자 확장판</td>\n",
       "      <td>[자청 저 ,  2023년 05월]</td>\n",
       "    </tr>\n",
       "    <tr>\n",
       "      <th>4</th>\n",
       "      <td>블루 아카이브 오피셜 아트웍스 한정판</td>\n",
       "      <td>[신민섭 역/NEXON GAMES 감수 ,  2023년 08월]</td>\n",
       "    </tr>\n",
       "    <tr>\n",
       "      <th>5</th>\n",
       "      <td>나는 어떻게 삶의 해답을 찾는가</td>\n",
       "      <td>[고명환 저 ,  2023년 06월]</td>\n",
       "    </tr>\n",
       "    <tr>\n",
       "      <th>6</th>\n",
       "      <td>사장학개론</td>\n",
       "      <td>[김승호 저 ,  2023년 04월]</td>\n",
       "    </tr>\n",
       "    <tr>\n",
       "      <th>7</th>\n",
       "      <td>도둑맞은 집중력</td>\n",
       "      <td>[요한 하리 저/김하현 역 ,  2023년 04월]</td>\n",
       "    </tr>\n",
       "    <tr>\n",
       "      <th>8</th>\n",
       "      <td>모든 삶은 흐른다</td>\n",
       "      <td>[로랑스 드빌레르 저/이주영 역 ,  2023년 04월]</td>\n",
       "    </tr>\n",
       "    <tr>\n",
       "      <th>9</th>\n",
       "      <td>메리골드 마음 세탁소</td>\n",
       "      <td>[윤정은 저 ,  2023년 03월]</td>\n",
       "    </tr>\n",
       "    <tr>\n",
       "      <th>10</th>\n",
       "      <td>블루 아카이브 오피셜 아트웍스</td>\n",
       "      <td>[신민섭 역/NEXON GAMES 감수 ,  2023년 08월]</td>\n",
       "    </tr>\n",
       "    <tr>\n",
       "      <th>11</th>\n",
       "      <td>유연함의 힘</td>\n",
       "      <td>[수잔 애쉬포드 저/김정혜 역 ,  2023년 05월]</td>\n",
       "    </tr>\n",
       "    <tr>\n",
       "      <th>12</th>\n",
       "      <td>열혈강호 88</td>\n",
       "      <td>[전극진 글/양재현 그림 ,  2023년 06월]</td>\n",
       "    </tr>\n",
       "    <tr>\n",
       "      <th>13</th>\n",
       "      <td>꿀벌의 예언 1</td>\n",
       "      <td>[베르나르 베르베르 저/전미연 역 ,  2023년 06월]</td>\n",
       "    </tr>\n",
       "    <tr>\n",
       "      <th>14</th>\n",
       "      <td>흔한남매의 흔한 호기심 9</td>\n",
       "      <td>[흔한남매 원저/유난희 그림/이정모,흔한컴퍼니 감수 ,  2023년 06월]</td>\n",
       "    </tr>\n",
       "    <tr>\n",
       "      <th>15</th>\n",
       "      <td>명탐정 코난 103</td>\n",
       "      <td>[아오야마 고쇼 글그림 ,  2023년 06월]</td>\n",
       "    </tr>\n",
       "    <tr>\n",
       "      <th>16</th>\n",
       "      <td>돈의 속성 300쇄 리커버</td>\n",
       "      <td>[김승호 저 ,  2020년 06월]</td>\n",
       "    </tr>\n",
       "    <tr>\n",
       "      <th>17</th>\n",
       "      <td>꿀벌의 예언 2</td>\n",
       "      <td>[베르나르 베르베르 저/전미연 역 ,  2023년 06월]</td>\n",
       "    </tr>\n",
       "    <tr>\n",
       "      <th>18</th>\n",
       "      <td>원씽 THE ONE THING</td>\n",
       "      <td>[게리 켈러,제이 파파산 저/구세희 역 ,  2013년 08월]</td>\n",
       "    </tr>\n",
       "    <tr>\n",
       "      <th>19</th>\n",
       "      <td>설민석의 한국사 대모험 25</td>\n",
       "      <td>[스토리박스,설민석 글/정현희 그림/강석화 감수 ,  2023년 05월]</td>\n",
       "    </tr>\n",
       "  </tbody>\n",
       "</table>\n",
       "</div>"
      ],
      "text/plain": [
       "                            제목                                     저자, 출간일\n",
       "0   비욘드 더 스토리 BEYOND THE STORY                  [강명석,방탄소년단 저 ,  2023년 07월]\n",
       "1                     세이노의 가르침                 [세이노(SayNo) 저 ,  2023년 03월]\n",
       "2                 문과 남자의 과학 공부                        [유시민 저 ,  2023년 06월]\n",
       "3                      역행자 확장판                         [자청 저 ,  2023년 05월]\n",
       "4         블루 아카이브 오피셜 아트웍스 한정판         [신민섭 역/NEXON GAMES 감수 ,  2023년 08월]\n",
       "5            나는 어떻게 삶의 해답을 찾는가                        [고명환 저 ,  2023년 06월]\n",
       "6                        사장학개론                        [김승호 저 ,  2023년 04월]\n",
       "7                     도둑맞은 집중력                [요한 하리 저/김하현 역 ,  2023년 04월]\n",
       "8                    모든 삶은 흐른다             [로랑스 드빌레르 저/이주영 역 ,  2023년 04월]\n",
       "9                  메리골드 마음 세탁소                        [윤정은 저 ,  2023년 03월]\n",
       "10            블루 아카이브 오피셜 아트웍스         [신민섭 역/NEXON GAMES 감수 ,  2023년 08월]\n",
       "11                      유연함의 힘              [수잔 애쉬포드 저/김정혜 역 ,  2023년 05월]\n",
       "12                     열혈강호 88                 [전극진 글/양재현 그림 ,  2023년 06월]\n",
       "13                    꿀벌의 예언 1            [베르나르 베르베르 저/전미연 역 ,  2023년 06월]\n",
       "14              흔한남매의 흔한 호기심 9  [흔한남매 원저/유난희 그림/이정모,흔한컴퍼니 감수 ,  2023년 06월]\n",
       "15                  명탐정 코난 103                  [아오야마 고쇼 글그림 ,  2023년 06월]\n",
       "16              돈의 속성 300쇄 리커버                        [김승호 저 ,  2020년 06월]\n",
       "17                    꿀벌의 예언 2            [베르나르 베르베르 저/전미연 역 ,  2023년 06월]\n",
       "18            원씽 THE ONE THING         [게리 켈러,제이 파파산 저/구세희 역 ,  2013년 08월]\n",
       "19             설민석의 한국사 대모험 25    [스토리박스,설민석 글/정현희 그림/강석화 감수 ,  2023년 05월]"
      ]
     },
     "execution_count": 90,
     "metadata": {},
     "output_type": "execute_result"
    }
   ],
   "source": [
    "containers = browser.find_elements(By.CLASS_NAME, \"goodsTxtInfo\")\n",
    "infos = browser.find_elements(By.CLASS_NAME, \"aupu\")\n",
    "\n",
    "title_list = []\n",
    "content_list = []\n",
    "for elem in containers:\n",
    "    title = elem.find_element(By.TAG_NAME, \"p\").find_element(By.TAG_NAME, \"a\")\n",
    "    title_list.append(title.text) \n",
    "    \n",
    "for con in infos:\n",
    "    content = con.text.split(\"|\")\n",
    "    content_list.append([content[0], content[-1]])\n",
    "\n",
    "\n",
    "data = {\n",
    "    \"제목\": title_list,\n",
    "    \"저자, 출간일\": content_list\n",
    "}\n",
    "\n",
    "df = pd.DataFrame(data)\n",
    "df\n",
    "# df.to_csv(\"Yes24 뉴스 크롤링.csv\")\n",
    "\n",
    "# containers = browser.find_elements(By.CLASS_NAME, \"goodsTxtInfo\")\n",
    "\n",
    "# title_list =[]\n",
    "# link_list = []\n",
    "# writer_list = []\n",
    "# company_list = []\n",
    "# publishing_list = []\n",
    "\n",
    "# for item in containers:\n",
    "#     title = item.find_element(By.TAG_NAME, \"a\").text\n",
    "#     title_list.append(title)\n",
    "\n",
    "#     link = item.find_element(By.TAG_NAME, \"a\").get_attribute(\"href\")\n",
    "#     link_list.append(link)\n",
    "\n",
    "#     info = item.find_element(By.CLASS_NAME, \"aupu\").text\n",
    "#     info_list = info.split(\" | \")\n",
    "\n",
    "#     writer = info_list[0]\n",
    "#     writer_list.append(writer)\n",
    "\n",
    "#     company = info_list[1]\n",
    "#     company_list.append(company)\n",
    "\n",
    "#     publishing = info_list[2]\n",
    "#     publishing_list.append(publishing)\n",
    "\n",
    "# data = {\n",
    "#     \"제목\" : title_list,\n",
    "#     \"링크\" : link_list,\n",
    "#     \"작가\" : writer_list,\n",
    "#     \"출판사\" : company_list,\n",
    "#     \"출판일\" : publishing_list\n",
    "# }\n",
    "\n"
   ]
  },
  {
   "attachments": {},
   "cell_type": "markdown",
   "metadata": {},
   "source": [
    "## 네이버 뉴스 크롤링\n",
    " - 제목, 내용, 링크, 언론사\n",
    " - 경제 홈: 네이버 뉴스\n",
    " - 엑셀 저장"
   ]
  },
  {
   "attachments": {},
   "cell_type": "markdown",
   "metadata": {},
   "source": []
  },
  {
   "cell_type": "code",
   "execution_count": 2,
   "metadata": {},
   "outputs": [],
   "source": [
    "from selenium import webdriver\n",
    "from selenium.webdriver.common.by import By\n",
    "import pandas as pd"
   ]
  },
  {
   "cell_type": "code",
   "execution_count": 4,
   "metadata": {},
   "outputs": [],
   "source": [
    "url = \"https://news.naver.com/main/main.naver?mode=LSD&mid=shm&sid1=105\"\n",
    "browser = webdriver.Chrome()\n",
    "browser.get(url)\n"
   ]
  },
  {
   "cell_type": "code",
   "execution_count": 31,
   "metadata": {},
   "outputs": [],
   "source": [
    "frame = browser.find_element(By.CLASS_NAME, \"section_headline\")\n",
    "# len(frame.find_elements(By.TAG_NAME,\"li\"))\n",
    "containers = frame.find_elements(By.TAG_NAME,\"li\")\n",
    "\n",
    "title_list = []\n",
    "content_list = []\n",
    "compony_list = []\n",
    "link_list = []\n",
    "\n",
    "for container in containers:\n",
    "    title = container.find_element(By.CLASS_NAME, \"sh_text\").find_element(By.TAG_NAME, \"a\").text\n",
    "    content = container.find_element(By.CLASS_NAME, \"sh_text_lede\").text\n",
    "    compony = container.find_element(By.CLASS_NAME, \"sh_text_press\").text\n",
    "    link = container.find_element(By.CLASS_NAME, \"sh_text\").find_element(By.TAG_NAME, \"a\").get_attribute(\"href\")\n",
    "\n",
    "    title_list.append(title)\n",
    "    content_list.append(content)\n",
    "    compony_list.append(compony)\n",
    "    link_list.append(link)\n",
    "\n",
    "data = {\n",
    "    \"제목\" : title_list,\n",
    "    \"내용\" : content_list,\n",
    "    \"언론사\" : compony_list,\n",
    "    \"링크\" : link_list,\n",
    "}\n",
    "   \n",
    "df = pd.DataFrame(data)\n",
    "df.to_csv(\"네이버 뉴스 크롤링2.csv\")"
   ]
  },
  {
   "cell_type": "code",
   "execution_count": 32,
   "metadata": {},
   "outputs": [
    {
     "data": {
      "text/plain": [
       "['가나다']"
      ]
     },
     "execution_count": 32,
     "metadata": {},
     "output_type": "execute_result"
    }
   ],
   "source": []
  },
  {
   "cell_type": "code",
   "execution_count": null,
   "metadata": {},
   "outputs": [],
   "source": []
  }
 ],
 "metadata": {
  "kernelspec": {
   "display_name": "Python 3",
   "language": "python",
   "name": "python3"
  },
  "language_info": {
   "codemirror_mode": {
    "name": "ipython",
    "version": 3
   },
   "file_extension": ".py",
   "mimetype": "text/x-python",
   "name": "python",
   "nbconvert_exporter": "python",
   "pygments_lexer": "ipython3",
   "version": "3.11.3"
  },
  "orig_nbformat": 4
 },
 "nbformat": 4,
 "nbformat_minor": 2
}
